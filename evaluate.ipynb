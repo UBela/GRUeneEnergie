{
 "cells": [
  {
   "cell_type": "code",
   "execution_count": 144,
   "metadata": {},
   "outputs": [],
   "source": [
    "import numpy as np\n",
    "import torch \n",
    "import torch.nn as nn\n",
    "import numpy as np\n",
    "import matplotlib.pyplot as plt\n",
    "import pandas as pd\n",
    "import time\n",
    "from GRU_model import GRUNet\n",
    "from dataset import SolarDataset\n",
    "import os"
   ]
  },
  {
   "cell_type": "code",
   "execution_count": 145,
   "metadata": {},
   "outputs": [],
   "source": [
    "solar_test = np.genfromtxt('data/test_data/test_solar2.csv', delimiter=',', skip_header=1)\n",
    "wind_test = np.genfromtxt('data/test_data/test_wind2.csv', delimiter=',', skip_header=1)\n",
    "\n",
    "solar_no_norm = np.genfromtxt('data/test_data/test_solar_unnorm.csv', delimiter=',', skip_header=1)\n",
    "wind_no_norm = np.genfromtxt('data/test_data/test_wind_unnorm.csv', delimiter=',', skip_header=1)"
   ]
  },
  {
   "cell_type": "code",
   "execution_count": 146,
   "metadata": {},
   "outputs": [],
   "source": [
    "test_results = 'test_results/'\n",
    "if not os.path.exists(test_results):\n",
    "    os.makedirs(test_results)"
   ]
  },
  {
   "cell_type": "code",
   "execution_count": 147,
   "metadata": {},
   "outputs": [
    {
     "data": {
      "text/plain": [
       "array([[-1.        , -0.50610107, -0.18026097,  0.79607825,  0.28359466,\n",
       "        -0.99999934,  0.        ,  1.        ,  5.        ,  1.        ,\n",
       "         1.        ],\n",
       "       [-1.        , -0.50946691, -0.18462544,  0.79607825,  0.37282326,\n",
       "        -0.99999934,  1.        ,  1.        ,  5.        ,  1.        ,\n",
       "         1.        ],\n",
       "       [-1.        , -0.52549753, -0.19383917,  0.79607825,  0.38301607,\n",
       "        -0.99999934,  2.        ,  1.        ,  5.        ,  1.        ,\n",
       "         1.        ],\n",
       "       [-1.        , -0.54033759, -0.20387625,  0.79607825,  0.37215552,\n",
       "        -0.99999934,  3.        ,  1.        ,  5.        ,  1.        ,\n",
       "         1.        ],\n",
       "       [-1.        , -0.55918026, -0.21334682,  0.79607825,  0.3607097 ,\n",
       "        -0.99999934,  4.        ,  1.        ,  5.        ,  1.        ,\n",
       "         1.        ]])"
      ]
     },
     "execution_count": 147,
     "metadata": {},
     "output_type": "execute_result"
    }
   ],
   "source": [
    "solar_test[:5]"
   ]
  },
  {
   "cell_type": "code",
   "execution_count": 148,
   "metadata": {},
   "outputs": [],
   "source": [
    "def move_sliding_window(data, window_size, inputs_cols_indices, label_col_index):\n",
    "    \"\"\"\n",
    "    data: numpy array including data\n",
    "    window_size: size of window\n",
    "    inputs_cols_indices: col indices to include\n",
    "    \"\"\"\n",
    "\n",
    "    # (# instances created by movement, seq_len (timestamps), # features (input_len))\n",
    "    inputs = np.zeros((len(data) - window_size, window_size, len(inputs_cols_indices)))\n",
    "    labels = np.zeros(len(data) - window_size)\n",
    "\n",
    "    for i in range(window_size, len(data)):\n",
    "        inputs[i - window_size] = data[i - window_size : i, inputs_cols_indices]\n",
    "        labels[i - window_size] = data[i, label_col_index]\n",
    "    inputs = inputs.reshape(-1, window_size, len(inputs_cols_indices))\n",
    "    labels = labels.reshape(-1, 1)\n",
    "    print(inputs.shape, labels.shape)\n",
    "\n",
    "    return inputs, labels"
   ]
  },
  {
   "cell_type": "code",
   "execution_count": 149,
   "metadata": {},
   "outputs": [],
   "source": [
    "def move_sliding_window_24h(data, window_size, inputs_cols_indices, label_col_index, forecast_horizon=24):\n",
    "    \"\"\"\n",
    "    data: numpy array including data\n",
    "    window_size: size of window\n",
    "    inputs_cols_indices: col indices to include\n",
    "    label_col_index: index of the label column in data\n",
    "    forecast_horizon: number of time steps ahead to predict\n",
    "    \"\"\"\n",
    "\n",
    "    # Calculate the number of instances based on the available data minus the window size and forecast horizon\n",
    "    num_instances = len(data) - window_size - forecast_horizon + 1\n",
    "\n",
    "    # (# instances created by movement, seq_len (timestamps), # features (input_len))\n",
    "    inputs = np.zeros((num_instances, window_size, len(inputs_cols_indices)))\n",
    "    labels = np.zeros(num_instances)\n",
    "\n",
    "    for i in range(num_instances):\n",
    "        inputs[i] = data[i:i + window_size, inputs_cols_indices]\n",
    "        labels[i] = data[i + window_size + forecast_horizon - 1, label_col_index]  # Label is forecast_horizon steps ahead\n",
    "\n",
    "    inputs = inputs.reshape(-1, window_size, len(inputs_cols_indices))\n",
    "    labels = labels.reshape(-1, 1)\n",
    "    print(inputs.shape, labels.shape)\n",
    "    return inputs, labels"
   ]
  },
  {
   "cell_type": "code",
   "execution_count": 150,
   "metadata": {},
   "outputs": [],
   "source": [
    "criterion = nn.MSELoss()"
   ]
  },
  {
   "cell_type": "code",
   "execution_count": 151,
   "metadata": {},
   "outputs": [],
   "source": [
    "device = torch.device('cuda' if torch.cuda.is_available() else 'cpu')"
   ]
  },
  {
   "cell_type": "code",
   "execution_count": 152,
   "metadata": {},
   "outputs": [
    {
     "name": "stdout",
     "output_type": "stream",
     "text": [
      "(8735, 25, 11) (8735, 1)\n"
     ]
    }
   ],
   "source": [
    "WINDOW_SIZE = 25\n",
    "solar_X_1h, solar_y_1h = move_sliding_window(solar_test, WINDOW_SIZE, range(11), 0)\n",
    "dataloader = torch.utils.data.DataLoader(SolarDataset(solar_X_1h, solar_y_1h), batch_size=1, shuffle=False)\n"
   ]
  },
  {
   "cell_type": "code",
   "execution_count": 153,
   "metadata": {},
   "outputs": [
    {
     "name": "stdout",
     "output_type": "stream",
     "text": [
      "[[-1.         -0.50610107 -0.18026097  0.79607825  0.28359466 -0.99999934\n",
      "   0.          1.          5.          1.          1.        ]\n",
      " [-1.         -0.50946691 -0.18462544  0.79607825  0.37282326 -0.99999934\n",
      "   1.          1.          5.          1.          1.        ]\n",
      " [-1.         -0.52549753 -0.19383917  0.79607825  0.38301607 -0.99999934\n",
      "   2.          1.          5.          1.          1.        ]\n",
      " [-1.         -0.54033759 -0.20387625  0.79607825  0.37215552 -0.99999934\n",
      "   3.          1.          5.          1.          1.        ]\n",
      " [-1.         -0.55918026 -0.21334682  0.79607825  0.3607097  -0.99999934\n",
      "   4.          1.          5.          1.          1.        ]\n",
      " [-1.         -0.56961327 -0.21979821  0.79607825  0.36697497 -0.99999934\n",
      "   5.          1.          5.          1.          1.        ]\n",
      " [-1.         -0.57983419 -0.22414141  0.79607825  0.36939747 -0.99999934\n",
      "   6.          1.          5.          1.          1.        ]\n",
      " [-0.99997378 -0.59589385 -0.23144801  0.79607902  0.37574783 -0.9999982\n",
      "   7.          1.          5.          1.          1.        ]\n",
      " [-0.9864817  -0.61547181 -0.22573247  0.79794258  0.38393612 -0.99785178\n",
      "   8.          1.          5.          1.          1.        ]\n",
      " [-0.89631164 -0.60465767 -0.19046022  0.81080071  0.39220778 -0.98522371\n",
      "   9.          1.          5.          1.          1.        ]\n",
      " [-0.76882531 -0.58669809 -0.14848598  0.82918001  0.38777836 -0.95878243\n",
      "  10.          1.          5.          1.          1.        ]\n",
      " [-0.651776   -0.57842479 -0.11585481  0.84240065  0.37716763 -0.92258528\n",
      "  11.          1.          5.          1.          1.        ]\n",
      " [-0.59384793 -0.56535606 -0.09092927  0.8463342   0.369065   -0.88341898\n",
      "  12.          1.          5.          1.          1.        ]\n",
      " [-0.64372533 -0.58148833 -0.07932983  0.84002844  0.34308043 -0.84718724\n",
      "  13.          1.          5.          1.          1.        ]\n",
      " [-0.75765403 -0.62249179 -0.08628295  0.82499525  0.31885119 -0.82032972\n",
      "  14.          1.          5.          1.          1.        ]\n",
      " [-0.9032478  -0.73220995 -0.13289431  0.80674501  0.31408929 -0.80782131\n",
      "  15.          1.          5.          1.          1.        ]\n",
      " [-0.99210668 -0.79983156 -0.18258351  0.79677778  0.31032971 -0.80659645\n",
      "  16.          1.          5.          1.          1.        ]\n",
      " [-1.         -0.82348834 -0.21079717  0.79607825  0.3048974  -0.80659645\n",
      "  17.          1.          5.          1.          1.        ]\n",
      " [-1.         -0.82426303 -0.23136871  0.79607825  0.30197325 -0.80659645\n",
      "  18.          1.          5.          1.          1.        ]\n",
      " [-1.         -0.81676393 -0.24832342  0.79607825  0.29370343 -0.80659645\n",
      "  19.          1.          5.          1.          1.        ]\n",
      " [-1.         -0.81561174 -0.26200422  0.79607825  0.28593151 -0.80659645\n",
      "  20.          1.          5.          1.          1.        ]\n",
      " [-1.         -0.81318083 -0.27615305  0.79607825  0.28710304 -0.80659645\n",
      "  21.          1.          5.          1.          1.        ]\n",
      " [-1.         -0.81268925 -0.2917522   0.7960767   0.29428783 -0.80659645\n",
      "  22.          1.          5.          1.          1.        ]\n",
      " [-1.         -0.81069391 -0.29911311  0.79607825  0.29696133 -0.80659645\n",
      "  23.          1.          5.          1.          1.        ]\n",
      " [-1.         -0.80310518 -0.2824633   0.56557864  0.34152922 -0.99999934\n",
      "   0.          2.          6.          1.          2.        ]] [-1.]\n"
     ]
    }
   ],
   "source": [
    "print(solar_X_1h[0], solar_y_1h[0])"
   ]
  },
  {
   "cell_type": "code",
   "execution_count": 154,
   "metadata": {},
   "outputs": [],
   "source": [
    "\n",
    "INPUT_SIZE = solar_X_1h.shape[2]\n",
    "OUTPUT_SIZE = 1\n",
    "HIDDEN_SIZE = 64\n",
    "NUM_LAYERS = 2"
   ]
  },
  {
   "cell_type": "code",
   "execution_count": 155,
   "metadata": {},
   "outputs": [],
   "source": [
    "def evaluate(model, dataloader, criterion):\n",
    "    model.eval()\n",
    "    outputs = []\n",
    "    targets = []\n",
    "    losses = []\n",
    "    start_time = time.process_time()\n",
    "    # get data of test data for each state\n",
    "    \n",
    "    \n",
    "        # predict outputs\n",
    "    with torch.no_grad():\n",
    "        for i, (inputs, labels) in enumerate(dataloader):\n",
    "            inputs = inputs.float().to(device)\n",
    "            labels = labels.float().to(device)\n",
    "\n",
    "            h = model.init_hidden(1)\n",
    "            \n",
    "            # drop first dimension of h\n",
    "           \n",
    "           # print(inputs.shape, h.shape)\n",
    "            out, h = model(inputs, h)\n",
    "            \n",
    "            loss = torch.sqrt(criterion(labels, out) + 1e-8)\n",
    "            #print(f\"Loss: {loss.item()}\")\n",
    "            losses.append(loss.item())\n",
    "            outputs.append(out.cpu().numpy())\n",
    "            targets.append(labels.cpu().numpy())\n",
    "\n",
    "    print(f\"Evaluation Time: {time.process_time()-start_time}\")\n",
    "    \n",
    "    \n",
    "    # list of of targets/outputs for each state\n",
    "    return outputs, targets, losses"
   ]
  },
  {
   "cell_type": "code",
   "execution_count": 156,
   "metadata": {},
   "outputs": [
    {
     "data": {
      "text/plain": [
       "GRUNet(\n",
       "  (gru): GRU(11, 64, batch_first=True, dropout=0.2)\n",
       "  (fc): Linear(in_features=64, out_features=1, bias=True)\n",
       ")"
      ]
     },
     "execution_count": 156,
     "metadata": {},
     "output_type": "execute_result"
    }
   ],
   "source": [
    "solar_1h_model = GRUNet(INPUT_SIZE, 64, 1,1).to(device)\n",
    "solar_1h_model.load_state_dict(torch.load('solar_1h_model.pth', map_location=device))\n",
    "solar_1h_model.eval()\n"
   ]
  },
  {
   "cell_type": "code",
   "execution_count": 157,
   "metadata": {},
   "outputs": [
    {
     "name": "stdout",
     "output_type": "stream",
     "text": [
      "Evaluation Time: 49.40625\n"
     ]
    }
   ],
   "source": [
    "outputs_solar_1, targets_solar_1, rmse_solar_1 = evaluate(solar_1h_model,dataloader, criterion)"
   ]
  },
  {
   "cell_type": "code",
   "execution_count": 158,
   "metadata": {},
   "outputs": [
    {
     "name": "stdout",
     "output_type": "stream",
     "text": [
      "Average RMSE: 0.031703997584664134\n"
     ]
    }
   ],
   "source": [
    "# get average loss\n",
    "print(f\"Average RMSE: {np.mean(rmse_solar_1)}\")"
   ]
  },
  {
   "cell_type": "code",
   "execution_count": 159,
   "metadata": {},
   "outputs": [],
   "source": [
    "# shape outputs and targets to be able to plot\n",
    "outputs_solar = np.array(outputs_solar_1).reshape(-1,1)\n",
    "targets_solar = np.array(targets_solar_1).reshape(-1,1)\n",
    "#save outputs and targets\n",
    "np.savetxt(test_results +'/outputs_solar_1h.csv', outputs_solar, delimiter=',')\n",
    "np.savetxt(test_results + '/targets_solar_1h.csv', targets_solar, delimiter=',')"
   ]
  },
  {
   "cell_type": "code",
   "execution_count": 160,
   "metadata": {},
   "outputs": [
    {
     "name": "stdout",
     "output_type": "stream",
     "text": [
      "8735\n"
     ]
    }
   ],
   "source": [
    "print(len(outputs_solar))"
   ]
  },
  {
   "cell_type": "code",
   "execution_count": 161,
   "metadata": {},
   "outputs": [
    {
     "name": "stdout",
     "output_type": "stream",
     "text": [
      "(8735, 25, 11) (8735, 1)\n"
     ]
    }
   ],
   "source": [
    "HIDDEN_SIZE = 16\n",
    "NUM_LAYERS = 1\n",
    "\n",
    "wind_X_1h, wind_y_1h = move_sliding_window(wind_test, WINDOW_SIZE, range(11), 0)\n",
    "dataloader = torch.utils.data.DataLoader(SolarDataset(wind_X_1h, wind_y_1h), batch_size=1, shuffle=False)"
   ]
  },
  {
   "cell_type": "code",
   "execution_count": 162,
   "metadata": {},
   "outputs": [
    {
     "data": {
      "text/plain": [
       "GRUNet(\n",
       "  (gru): GRU(11, 16, batch_first=True, dropout=0.2)\n",
       "  (fc): Linear(in_features=16, out_features=1, bias=True)\n",
       ")"
      ]
     },
     "execution_count": 162,
     "metadata": {},
     "output_type": "execute_result"
    }
   ],
   "source": [
    "wind_model_1h = GRUNet(INPUT_SIZE, HIDDEN_SIZE, NUM_LAYERS, OUTPUT_SIZE).to(device)\n",
    "wind_model_1h.load_state_dict(torch.load('models/total_wind_1h_model (1).pth', map_location=device))\n",
    "wind_model_1h.eval()"
   ]
  },
  {
   "cell_type": "code",
   "execution_count": 163,
   "metadata": {},
   "outputs": [
    {
     "name": "stdout",
     "output_type": "stream",
     "text": [
      "Evaluation Time: 45.96875\n"
     ]
    }
   ],
   "source": [
    "outputs_wind_1, targets_wind_1, rmse = evaluate(wind_model_1h,dataloader, criterion)\n"
   ]
  },
  {
   "cell_type": "code",
   "execution_count": 164,
   "metadata": {},
   "outputs": [
    {
     "name": "stdout",
     "output_type": "stream",
     "text": [
      "Average RMSE: 0.022428454782464077\n"
     ]
    }
   ],
   "source": [
    "print(f\"Average RMSE: {np.mean(rmse)}\")\n",
    "# 0.01885407991705509"
   ]
  },
  {
   "cell_type": "code",
   "execution_count": 165,
   "metadata": {},
   "outputs": [],
   "source": [
    "outputs_wind_1h = np.array(outputs_wind_1).reshape(-1,1)\n",
    "targets_wind_1h = np.array(targets_wind_1).reshape(-1,1)\n",
    "#save the results\n",
    "np.savetxt(test_results + \"/wind_outputs_1h.csv\", outputs_wind_1h, delimiter=\",\")\n",
    "np.savetxt(test_results + \"/wind_targets_1h.csv\", targets_wind_1h, delimiter=\",\")"
   ]
  },
  {
   "cell_type": "code",
   "execution_count": 166,
   "metadata": {},
   "outputs": [
    {
     "name": "stdout",
     "output_type": "stream",
     "text": [
      "(8665, 72, 11) (8665, 1)\n"
     ]
    }
   ],
   "source": [
    "solar_X_24h, solar_y_24h = move_sliding_window_24h(solar_test, 72, range(11), 0, 24)#\n",
    "dataloader = torch.utils.data.DataLoader(SolarDataset(solar_X_24h, solar_y_24h), batch_size=1, shuffle=False)\n"
   ]
  },
  {
   "cell_type": "code",
   "execution_count": 167,
   "metadata": {},
   "outputs": [],
   "source": [
    "device = torch.device('cuda' if torch.cuda.is_available() else 'cpu')"
   ]
  },
  {
   "cell_type": "code",
   "execution_count": 168,
   "metadata": {},
   "outputs": [
    {
     "data": {
      "text/plain": [
       "GRUNet(\n",
       "  (gru): GRU(11, 64, num_layers=2, batch_first=True, dropout=0.2)\n",
       "  (fc): Linear(in_features=64, out_features=1, bias=True)\n",
       ")"
      ]
     },
     "execution_count": 168,
     "metadata": {},
     "output_type": "execute_result"
    }
   ],
   "source": [
    "HIDDEN_SIZE = 64\n",
    "NUM_LAYERS = 2\n",
    "solar_24h_model = GRUNet(INPUT_SIZE, HIDDEN_SIZE, OUTPUT_SIZE,NUM_LAYERS).to(device)\n",
    "solar_24h_model.load_state_dict(torch.load('solar_24h_model.pth', map_location=device))\n",
    "solar_24h_model.eval()\n"
   ]
  },
  {
   "cell_type": "code",
   "execution_count": 169,
   "metadata": {},
   "outputs": [
    {
     "name": "stdout",
     "output_type": "stream",
     "text": [
      "Evaluation Time: 210.9375\n"
     ]
    }
   ],
   "source": [
    "outputs_solar_24, targets_solar_24, rmse = evaluate(solar_24h_model,dataloader, criterion)\n",
    "\n"
   ]
  },
  {
   "cell_type": "code",
   "execution_count": 170,
   "metadata": {},
   "outputs": [
    {
     "name": "stdout",
     "output_type": "stream",
     "text": [
      "Average RMSE: 0.1531642803510652\n"
     ]
    }
   ],
   "source": [
    "average_rmse = np.mean(rmse)\n",
    "print(f\"Average RMSE: {average_rmse}\")\n",
    "#Average RMSE: 0.23142031165367208  0.20508469305730742"
   ]
  },
  {
   "cell_type": "code",
   "execution_count": 171,
   "metadata": {},
   "outputs": [],
   "source": [
    "outputs_solar_24 = np.array(outputs_solar_24).reshape(-1,1)\n",
    "targets_solar_24 = np.array(targets_solar_24).reshape(-1,1)\n",
    "#save the results\n",
    "np.savetxt(test_results + \"/solar_outputs_24h.csv\", outputs_solar_24, delimiter=\",\")\n",
    "np.savetxt(test_results + \"/solar_targets_24h.csv\", targets_solar_24, delimiter=\",\")"
   ]
  },
  {
   "cell_type": "code",
   "execution_count": 172,
   "metadata": {},
   "outputs": [
    {
     "name": "stdout",
     "output_type": "stream",
     "text": [
      "(8665, 72, 11) (8665, 1)\n"
     ]
    }
   ],
   "source": [
    "wind_X_24h, wind_y_24h = move_sliding_window_24h(wind_test, 72, range(11), 0, 24)\n",
    "dataloaders = torch.utils.data.DataLoader(SolarDataset(wind_X_24h, wind_y_24h), batch_size=1, shuffle=False)\n"
   ]
  },
  {
   "cell_type": "code",
   "execution_count": 173,
   "metadata": {},
   "outputs": [
    {
     "data": {
      "text/plain": [
       "<All keys matched successfully>"
      ]
     },
     "execution_count": 173,
     "metadata": {},
     "output_type": "execute_result"
    }
   ],
   "source": [
    "HIDDEN_SIZE = 64\n",
    "NUM_LAYERS = 2\n",
    "wind_model_24h = GRUNet(INPUT_SIZE, HIDDEN_SIZE, OUTPUT_SIZE,NUM_LAYERS).to(device)\n",
    "wind_model_24h.load_state_dict(torch.load('wind_24h_model.pth', map_location=device))"
   ]
  },
  {
   "cell_type": "code",
   "execution_count": 174,
   "metadata": {},
   "outputs": [
    {
     "name": "stdout",
     "output_type": "stream",
     "text": [
      "Evaluation Time: 212.0625\n"
     ]
    }
   ],
   "source": [
    "outputs_wind_24, targets_wind_24, rmse = evaluate(wind_model_24h,dataloaders, criterion)\n"
   ]
  },
  {
   "cell_type": "code",
   "execution_count": 175,
   "metadata": {},
   "outputs": [
    {
     "name": "stdout",
     "output_type": "stream",
     "text": [
      "Average RMSE: 0.2929446832060122\n"
     ]
    }
   ],
   "source": [
    "outputs_wind_24 = np.array(outputs_wind_24).reshape(-1,1)\n",
    "targets_wind_24 = np.array(targets_wind_24).reshape(-1,1)\n",
    "#save the results\n",
    "np.savetxt(test_results + \"/outputs_wind_24h.csv\", outputs_wind_24, delimiter=\",\")\n",
    "np.savetxt(test_results + \"/targets_wind_24h.csv\", targets_wind_24, delimiter=\",\")\n",
    "print(f\"Average RMSE: {np.mean(rmse)}\")\n",
    "#Average RMSE: 0.2523170205728958\n",
    "# 0.24148374354972024"
   ]
  }
 ],
 "metadata": {
  "kernelspec": {
   "display_name": "Python 3",
   "language": "python",
   "name": "python3"
  },
  "language_info": {
   "codemirror_mode": {
    "name": "ipython",
    "version": 3
   },
   "file_extension": ".py",
   "mimetype": "text/x-python",
   "name": "python",
   "nbconvert_exporter": "python",
   "pygments_lexer": "ipython3",
   "version": "3.10.4"
  }
 },
 "nbformat": 4,
 "nbformat_minor": 2
}

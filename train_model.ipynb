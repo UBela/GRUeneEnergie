{
 "cells": [
  {
   "cell_type": "code",
   "execution_count": 1,
   "metadata": {},
   "outputs": [],
   "source": [
    "import numpy as np\n",
    "import matplotlib.pyplot as plt\n",
    "import torch\n",
    "from torch import nn\n",
    "import os \n",
    "import sys\n",
    "from torch.utils.data import Dataset, DataLoader\n",
    "import pandas as pd\n",
    "from collections import defaultdict \n"
   ]
  },
  {
   "cell_type": "code",
   "execution_count": 2,
   "metadata": {},
   "outputs": [],
   "source": [
    "WINDOW_SIZE = 25"
   ]
  },
  {
   "cell_type": "code",
   "execution_count": 3,
   "metadata": {},
   "outputs": [],
   "source": [
    "#TODO make supervised learning dataset from csv files\n",
    "#TODO build dataloader\n",
    "solar_data = np.genfromtxt('data\\\\training_data\\\\train_solar.csv', delimiter=',', skip_header=1)\n",
    "wind_data = np.genfromtxt('data\\\\training_data\\\\train_wind.csv', delimiter=',',skip_header=1)\n"
   ]
  },
  {
   "cell_type": "code",
   "execution_count": 4,
   "metadata": {},
   "outputs": [
    {
     "data": {
      "text/plain": [
       "((17544, 11), (17544, 11))"
      ]
     },
     "execution_count": 4,
     "metadata": {},
     "output_type": "execute_result"
    }
   ],
   "source": [
    "solar_data.shape, wind_data.shape"
   ]
  },
  {
   "cell_type": "code",
   "execution_count": 5,
   "metadata": {},
   "outputs": [],
   "source": [
    "def move_sliding_window(data, window_size, inputs_cols_indices, label_col_index):\n",
    "    \"\"\"\n",
    "    data: numpy array including data\n",
    "    window_size: size of window\n",
    "    inputs_cols_indices: col indices to include\n",
    "    \"\"\"\n",
    "\n",
    "    # (# instances created by movement, seq_len (timestamps), # features (input_len))\n",
    "    inputs = np.zeros((len(data) - window_size, window_size, len(inputs_cols_indices)))\n",
    "    labels = np.zeros(len(data) - window_size)\n",
    "\n",
    "    for i in range(window_size, len(data)):\n",
    "        inputs[i - window_size] = data[i - window_size : i, inputs_cols_indices]\n",
    "        labels[i - window_size] = data[i, label_col_index]\n",
    "    inputs = inputs.reshape(-1, window_size, len(inputs_cols_indices))\n",
    "    labels = labels.reshape(-1, 1)\n",
    "    print(inputs.shape, labels.shape)\n",
    "\n",
    "    return inputs, labels"
   ]
  },
  {
   "cell_type": "code",
   "execution_count": 6,
   "metadata": {},
   "outputs": [],
   "source": [
    "def move_sliding_window_24h(data, window_size, inputs_cols_indices, label_col_index, forecast_horizon=24):\n",
    "    \"\"\"\n",
    "    data: numpy array including data\n",
    "    window_size: size of window\n",
    "    inputs_cols_indices: col indices to include\n",
    "    label_col_index: index of the label column in data\n",
    "    forecast_horizon: number of time steps ahead to predict\n",
    "    \"\"\"\n",
    "\n",
    "    # Calculate the number of instances based on the available data minus the window size and forecast horizon\n",
    "    num_instances = len(data) - window_size - forecast_horizon + 1\n",
    "\n",
    "    # (# instances created by movement, seq_len (timestamps), # features (input_len))\n",
    "    inputs = np.zeros((num_instances, window_size, len(inputs_cols_indices)))\n",
    "    labels = np.zeros(num_instances)\n",
    "\n",
    "    for i in range(num_instances):\n",
    "        inputs[i] = data[i:i + window_size, inputs_cols_indices]\n",
    "        labels[i] = data[i + window_size + forecast_horizon - 1, label_col_index]  # Label is forecast_horizon steps ahead\n",
    "\n",
    "    print(inputs.shape, labels.shape)\n",
    "\n",
    "    return inputs, labels"
   ]
  },
  {
   "cell_type": "code",
   "execution_count": 7,
   "metadata": {},
   "outputs": [
    {
     "name": "stdout",
     "output_type": "stream",
     "text": [
      "(17519, 25, 11) (17519, 1)\n",
      "(17519, 25, 11) (17519, 1)\n"
     ]
    }
   ],
   "source": [
    "solar_X, solar_y = move_sliding_window(solar_data, WINDOW_SIZE, range(11), 0)\n",
    "wind_X, wind_y = move_sliding_window(wind_data, WINDOW_SIZE, range(11), 0)"
   ]
  },
  {
   "cell_type": "code",
   "execution_count": 8,
   "metadata": {},
   "outputs": [
    {
     "name": "stdout",
     "output_type": "stream",
     "text": [
      "[[-1.         -1.         -1.         -1.         -0.39492153  0.21077271\n",
      "   0.          1.          1.          1.          1.        ]\n",
      " [-1.         -1.         -1.         -1.         -0.39191435  0.21077271\n",
      "   1.          1.          1.          1.          1.        ]\n",
      " [-1.         -1.         -1.         -1.         -0.39321545  0.21077271\n",
      "   2.          1.          1.          1.          1.        ]\n",
      " [-1.         -1.         -1.         -1.         -0.39499721  0.21077271\n",
      "   3.          1.          1.          1.          1.        ]\n",
      " [-1.         -1.         -1.         -1.         -0.39659511  0.21077271\n",
      "   4.          1.          1.          1.          1.        ]\n",
      " [-1.         -1.         -1.         -1.         -0.39866141  0.21077271\n",
      "   5.          1.          1.          1.          1.        ]\n",
      " [-1.         -1.         -1.         -1.         -0.40071957  0.21077271\n",
      "   6.          1.          1.          1.          1.        ]\n",
      " [-1.         -0.99999988 -0.99999955 -1.         -0.40273931  0.21077271\n",
      "   7.          1.          1.          1.          1.        ]\n",
      " [-0.99853643 -0.99972145 -0.99931288 -0.99889496 -0.40407701  0.213805\n",
      "   8.          1.          1.          1.          1.        ]\n",
      " [-0.98929614 -0.99782193 -0.9954876  -0.9923473  -0.40284649  0.23641761\n",
      "   9.          1.          1.          1.          1.        ]\n",
      " [-0.96981727 -0.99303483 -0.98698748 -0.97767768 -0.39909725  0.28255127\n",
      "  10.          1.          1.          1.          1.        ]\n",
      " [-0.94386172 -0.98444738 -0.97311783 -0.95497492 -0.39420079  0.33970077\n",
      "  11.          1.          1.          1.          1.        ]\n",
      " [-0.91972428 -0.97255544 -0.95463834 -0.92594911 -0.38939845  0.3928102\n",
      "  12.          1.          1.          1.          1.        ]\n",
      " [-0.90233704 -0.9584131  -0.93295393 -0.89033537 -0.38637763  0.42927765\n",
      "  13.          1.          1.          1.          1.        ]\n",
      " [-0.89661751 -0.94385861 -0.91027532 -0.85133526 -0.38565071  0.44081332\n",
      "  14.          1.          1.          1.          1.        ]\n",
      " [-0.90230602 -0.93031973 -0.88873051 -0.81249776 -0.38785276  0.42824321\n",
      "  15.          1.          1.          1.          1.        ]\n",
      " [-0.91235789 -0.91851156 -0.86984705 -0.77819059 -0.39309527  0.40597748\n",
      "  16.          1.          1.          1.          1.        ]\n",
      " [-0.92138079 -0.90821363 -0.85337878 -0.74827128 -0.39905     0.38588082\n",
      "  17.          1.          1.          1.          1.        ]\n",
      " [-0.92929317 -0.89918317 -0.83893739 -0.7220344  -0.4059161   0.36825763\n",
      "  18.          1.          1.          1.          1.        ]\n",
      " [-0.93626531 -0.89122579 -0.82621209 -0.69891526 -0.41373908  0.35272862\n",
      "  19.          1.          1.          1.          1.        ]\n",
      " [-0.94243516 -0.88418409 -0.81495111 -0.67845648 -0.42138304  0.33898655\n",
      "  20.          1.          1.          1.          1.        ]\n",
      " [-0.94791563 -0.87792917 -0.80494834 -0.66028361 -0.42959775  0.32677992\n",
      "  21.          1.          1.          1.          1.        ]\n",
      " [-0.95280007 -0.87235452 -0.79603345 -0.64408717 -0.43792583  0.31590085\n",
      "  22.          1.          1.          1.          1.        ]\n",
      " [-0.95716628 -0.86737132 -0.78806439 -0.62960911 -0.44595844  0.30617601\n",
      "  23.          1.          1.          1.          1.        ]\n",
      " [-0.96107966 -0.87948857 -0.8074273  -0.66344887 -0.45576854  0.06130266\n",
      "   0.          2.          2.          1.          2.        ]] \n",
      " [-0.96459556]\n"
     ]
    }
   ],
   "source": [
    "print(solar_X[0], '\\n', solar_y[0])\n"
   ]
  },
  {
   "cell_type": "code",
   "execution_count": 9,
   "metadata": {},
   "outputs": [],
   "source": [
    "#create dataset\n",
    "class SolarDataset(Dataset):\n",
    "    def __init__(self, inputs, output):\n",
    "        self.inputs = inputs\n",
    "        self.output = output\n",
    "\n",
    "    def __len__(self):\n",
    "        return len(self.inputs)\n",
    "\n",
    "    def __getitem__(self, idx):\n",
    "        return self.inputs[idx], self.output[idx]\n",
    "\n",
    "solar_dataset = SolarDataset(solar_X, solar_y)\n",
    "wind_dataset = SolarDataset(wind_X, wind_y)\n",
    "dataloader_solar = DataLoader(solar_dataset, batch_size=32, shuffle=False, drop_last=True) \n",
    "dataloader_wind = DataLoader(wind_dataset, batch_size=32, shuffle=False, drop_last=True)  \n",
    "  \n"
   ]
  },
  {
   "cell_type": "code",
   "execution_count": 10,
   "metadata": {},
   "outputs": [
    {
     "name": "stdout",
     "output_type": "stream",
     "text": [
      "(8735, 25, 11) (8735, 1)\n"
     ]
    }
   ],
   "source": [
    "solar_data_val = np.genfromtxt('data\\\\training_data\\\\val_solar.csv', delimiter=',', skip_header=1)\n",
    "solar_X_val, solar_y_val = move_sliding_window(solar_data_val, WINDOW_SIZE, range(11), 0)\n",
    "solar_dataset_val = SolarDataset(solar_X_val, solar_y_val)\n",
    "dataloader_solar_val = DataLoader(solar_dataset_val, batch_size=32, shuffle=False, drop_last=True)"
   ]
  },
  {
   "cell_type": "code",
   "execution_count": 11,
   "metadata": {},
   "outputs": [
    {
     "name": "stdout",
     "output_type": "stream",
     "text": [
      "(8735, 25, 11) (8735, 1)\n"
     ]
    }
   ],
   "source": [
    "wind_data_val = np.genfromtxt('data\\\\training_data\\\\val_wind.csv', delimiter=',', skip_header=1)\n",
    "wind_X_val, wind_y_val = move_sliding_window(wind_data_val, WINDOW_SIZE, range(11), 0)\n",
    "wind_dataset_val = SolarDataset(wind_X_val, wind_y_val)\n",
    "dataloader_wind_val = DataLoader(wind_dataset_val, batch_size=32, shuffle=False, drop_last=True)"
   ]
  },
  {
   "cell_type": "code",
   "execution_count": 12,
   "metadata": {},
   "outputs": [
    {
     "name": "stdout",
     "output_type": "stream",
     "text": [
      "731.0\n"
     ]
    }
   ],
   "source": [
    "alpha = 2\n",
    "N_h = solar_data.shape[0] / (alpha * (11 + 1))\n",
    "print(N_h)"
   ]
  },
  {
   "cell_type": "code",
   "execution_count": 16,
   "metadata": {},
   "outputs": [],
   "source": [
    "from GRU_model import GRUNet\n",
    "\n",
    "INPUT_SIZE = solar_X.shape[2]\n",
    "HIDDEN_SIZE = 16\n",
    "NUM_LAYERS = 2\n",
    "OUTPUT_SIZE = solar_y.shape[1]\n",
    "DROP_PROB = .5\n",
    "lr = 0.001"
   ]
  },
  {
   "cell_type": "code",
   "execution_count": 17,
   "metadata": {},
   "outputs": [
    {
     "name": "stdout",
     "output_type": "stream",
     "text": [
      "11 1\n"
     ]
    }
   ],
   "source": [
    "print(INPUT_SIZE, OUTPUT_SIZE)"
   ]
  },
  {
   "cell_type": "code",
   "execution_count": 18,
   "metadata": {},
   "outputs": [
    {
     "data": {
      "text/plain": [
       "GRUNet(\n",
       "  (gru): GRU(11, 16, num_layers=2, batch_first=True, dropout=0.5)\n",
       "  (fc): Linear(in_features=16, out_features=1, bias=True)\n",
       ")"
      ]
     },
     "execution_count": 18,
     "metadata": {},
     "output_type": "execute_result"
    }
   ],
   "source": [
    "\n",
    "device = torch.device(\"cuda\" if torch.cuda.is_available() else \"cpu\")\n",
    "model = GRUNet(input_dim=INPUT_SIZE, hidden_dim=HIDDEN_SIZE, output_dim=OUTPUT_SIZE, n_layers=NUM_LAYERS, drop_prob=DROP_PROB).to(device)\n",
    "model"
   ]
  },
  {
   "cell_type": "code",
   "execution_count": 19,
   "metadata": {},
   "outputs": [],
   "source": [
    "criterion = nn.MSELoss()\n",
    "optimizer = torch.optim.Adam(model.parameters(), lr=lr)"
   ]
  },
  {
   "cell_type": "code",
   "execution_count": 20,
   "metadata": {},
   "outputs": [],
   "source": [
    "def train_model(model, train_loader, val_loader, criterion, optimizer, num_epochs, grad_clip_param, apply_gradient_clipping=False):   \n",
    "    model.train()\n",
    "    losses_train = []\n",
    "    losses_val = [] \n",
    "    best_val_loss = np.inf\n",
    "    best_epoch = 0\n",
    "    eps = 1e-6\n",
    "    \n",
    "    for epoch in range(num_epochs):\n",
    "        train_losses = []\n",
    "        for i, (input, target) in enumerate(train_loader):\n",
    "            \n",
    "            \n",
    "            input, target  = input.to(device), target.to(device)\n",
    "        \n",
    "            optimizer.zero_grad()\n",
    "            \n",
    "            h = model.init_hidden(input.size(0)).to(device)\n",
    "            \n",
    "            output, hidden = model(input.float(), h)\n",
    "\n",
    "            loss = torch.sqrt(criterion(output, target.float()) + eps)\n",
    "            # gradient clipping\n",
    "            loss.backward()\n",
    "            if apply_gradient_clipping:\n",
    "                torch.nn.utils.clip_grad_norm_(model.parameters(), grad_clip_param)\n",
    "            optimizer.step()\n",
    "            \n",
    "            train_losses.append(loss.item())\n",
    "\n",
    "        # validate\n",
    "        \"\"\"\n",
    "        model.eval()\n",
    "        val_losses = []\n",
    "        with torch.no_grad():\n",
    "            for i, (input, target) in enumerate(val_loader):\n",
    "                input, target  = input.to(device), target.to(device)\n",
    "                h = model.init_hidden(input.size(0)).to(device)\n",
    "                output, hidden = model(input.float(), h)\n",
    "                    \n",
    "                val_loss = criterion(output, target.float())\n",
    "                val_losses.append(val_loss.item())\n",
    "        \"\"\"\n",
    "        #print epoch results\n",
    "        print(f'Epoch {epoch}, train loss: {np.mean(train_losses)}')\n",
    "\n",
    "                \n",
    "        losses_train.append(np.mean(train_losses))\n",
    "        #losses_val.append(np.mean(val_losses))\n",
    "\n",
    "    return model, losses_train"
   ]
  },
  {
   "cell_type": "markdown",
   "metadata": {},
   "source": [
    "Retrain Model on entire dataset using the before found hyperparameters"
   ]
  },
  {
   "cell_type": "code",
   "execution_count": 18,
   "metadata": {},
   "outputs": [
    {
     "name": "stderr",
     "output_type": "stream",
     "text": [
      "c:\\Users\\Béla\\AppData\\Local\\Programs\\Python\\Python311\\Lib\\site-packages\\torch\\nn\\modules\\rnn.py:83: UserWarning: dropout option adds dropout after all but last recurrent layer, so non-zero dropout expects num_layers greater than 1, but got dropout=0.5 and num_layers=1\n",
      "  warnings.warn(\"dropout option adds dropout after all but last \"\n"
     ]
    }
   ],
   "source": [
    "#Best parameters: {'batch_size': 16, 'iterator_train__shuffle': False, 'max_epochs': 80, 'module__drop_prob': 0.5, 'module__hidden_dim': 16, 'module__n_layers': 1, 'optimizer__lr': 0.001, 'optimizer__weight_decay': 0.0001}\n",
    "\n",
    "HIDDEN_SIZE = 16\n",
    "NUM_LAYERS = 1\n",
    "lr = 0.001\n",
    "weight_decay = 0.001\n",
    "N_EPOCHS = 100\n",
    "DROP_PROB = 0.5\n",
    "device = torch.device(\"cuda\" if torch.cuda.is_available() else \"cpu\")\n",
    "grad_clip_param = 2\n",
    "\n",
    "\n",
    "\n",
    "model = GRUNet(input_dim=INPUT_SIZE, hidden_dim=HIDDEN_SIZE, output_dim=OUTPUT_SIZE, n_layers=NUM_LAYERS, drop_prob=DROP_PROB).to(device)\n",
    "optimizer = torch.optim.Adam(model.parameters(), lr=lr, weight_decay=0.0001)"
   ]
  },
  {
   "cell_type": "code",
   "execution_count": 19,
   "metadata": {},
   "outputs": [
    {
     "name": "stdout",
     "output_type": "stream",
     "text": [
      "(26279, 25, 11) (26279, 1)\n"
     ]
    }
   ],
   "source": [
    "# retrain on entire dataset \n",
    "wind_total = np.concatenate((wind_data, wind_data_val), axis=0)\n",
    "wind_total_X, wind_total_y = move_sliding_window(wind_total, WINDOW_SIZE, range(11), 0)\n",
    "wind_total_dataset = SolarDataset(wind_total_X, wind_total_y)\n",
    "dataloader_wind_total = DataLoader(wind_total_dataset, batch_size=32, shuffle=False, drop_last=True)"
   ]
  },
  {
   "cell_type": "code",
   "execution_count": 20,
   "metadata": {},
   "outputs": [
    {
     "name": "stdout",
     "output_type": "stream",
     "text": [
      "Epoch 0, train loss: 0.3566136930986386\n",
      "Epoch 1, train loss: 0.34242739341018696\n",
      "Epoch 2, train loss: 0.3292815538120981\n",
      "Epoch 3, train loss: 0.2820586117299843\n",
      "Epoch 4, train loss: 0.17568438879501225\n",
      "Epoch 5, train loss: 0.1353227472597513\n",
      "Epoch 6, train loss: 0.12383510290909372\n",
      "Epoch 7, train loss: 0.1170544926208715\n",
      "Epoch 8, train loss: 0.10043174195490169\n",
      "Epoch 9, train loss: 0.08791557144845556\n",
      "Epoch 10, train loss: 0.08990672212513788\n",
      "Epoch 11, train loss: 0.07711570228741535\n",
      "Epoch 12, train loss: 0.07357874988259501\n",
      "Epoch 13, train loss: 0.0663940989725455\n",
      "Epoch 14, train loss: 0.06042445482556843\n",
      "Epoch 15, train loss: 0.057545808112434815\n",
      "Epoch 16, train loss: 0.057701378731209056\n",
      "Epoch 17, train loss: 0.04125715897534265\n",
      "Epoch 18, train loss: 0.03993344711974699\n",
      "Epoch 19, train loss: 0.03731393122741551\n",
      "Epoch 20, train loss: 0.04178936425290194\n",
      "Epoch 21, train loss: 0.029520725078163862\n",
      "Epoch 22, train loss: 0.030725766763422323\n",
      "Epoch 23, train loss: 0.03073851256200252\n",
      "Epoch 24, train loss: 0.027065041385807696\n",
      "Epoch 25, train loss: 0.028531415961698676\n",
      "Epoch 26, train loss: 0.028396818987360444\n",
      "Epoch 27, train loss: 0.03220008195524788\n",
      "Epoch 28, train loss: 0.03603275676726406\n",
      "Epoch 29, train loss: 0.029414492034513264\n",
      "Epoch 30, train loss: 0.03951287304190749\n",
      "Epoch 31, train loss: 0.02892754070719434\n",
      "Epoch 32, train loss: 0.02802411971520746\n",
      "Epoch 33, train loss: 0.030156534204563528\n",
      "Epoch 34, train loss: 0.030321307528404413\n",
      "Epoch 35, train loss: 0.03480302097857788\n",
      "Epoch 36, train loss: 0.035179878317895055\n",
      "Epoch 37, train loss: 0.03608181548302587\n",
      "Epoch 38, train loss: 0.02863779110605993\n",
      "Epoch 39, train loss: 0.02641647175662265\n",
      "Epoch 40, train loss: 0.025762761740556188\n",
      "Epoch 41, train loss: 0.02573411182322325\n",
      "Epoch 42, train loss: 0.032699763415558275\n",
      "Epoch 43, train loss: 0.026208564852070557\n",
      "Epoch 44, train loss: 0.03292848733673496\n",
      "Epoch 45, train loss: 0.032388239582812235\n",
      "Epoch 46, train loss: 0.03008404019998838\n",
      "Epoch 47, train loss: 0.028079133828473476\n",
      "Epoch 48, train loss: 0.027548169602337094\n",
      "Epoch 49, train loss: 0.034499014752443956\n",
      "Epoch 50, train loss: 0.025201435477657744\n",
      "Epoch 51, train loss: 0.02447964824496765\n",
      "Epoch 52, train loss: 0.030016418822375143\n",
      "Epoch 53, train loss: 0.026546563453468678\n",
      "Epoch 54, train loss: 0.034892389762082594\n",
      "Epoch 55, train loss: 0.02677032346389144\n",
      "Epoch 56, train loss: 0.03931044452102236\n",
      "Epoch 57, train loss: 0.02841112448098807\n",
      "Epoch 58, train loss: 0.02506176436980154\n",
      "Epoch 59, train loss: 0.024645613446881615\n",
      "Epoch 60, train loss: 0.02403228376576865\n",
      "Epoch 61, train loss: 0.02702488815105644\n",
      "Epoch 62, train loss: 0.02826724662054126\n",
      "Epoch 63, train loss: 0.03195044479755987\n",
      "Epoch 64, train loss: 0.029807959249624292\n",
      "Epoch 65, train loss: 0.0283593030654384\n",
      "Epoch 66, train loss: 0.02654734337628659\n",
      "Epoch 67, train loss: 0.027891751110494755\n",
      "Epoch 68, train loss: 0.026223201496950857\n",
      "Epoch 69, train loss: 0.022799638501537486\n",
      "Epoch 70, train loss: 0.023352025598985224\n",
      "Epoch 71, train loss: 0.024370588647228884\n",
      "Epoch 72, train loss: 0.031177830533266303\n",
      "Epoch 73, train loss: 0.036245889624242696\n",
      "Epoch 74, train loss: 0.02521210151467014\n",
      "Epoch 75, train loss: 0.029758182196309574\n",
      "Epoch 76, train loss: 0.024343261999179053\n",
      "Epoch 77, train loss: 0.025595551840200948\n",
      "Epoch 78, train loss: 0.02680888986095886\n",
      "Epoch 79, train loss: 0.02567313000107191\n",
      "Epoch 80, train loss: 0.026764120859514816\n",
      "Epoch 81, train loss: 0.028673988891466\n",
      "Epoch 82, train loss: 0.02688455222861957\n",
      "Epoch 83, train loss: 0.029254668515604376\n",
      "Epoch 84, train loss: 0.025855754644481803\n",
      "Epoch 85, train loss: 0.03196749920433843\n",
      "Epoch 86, train loss: 0.029223090414883485\n",
      "Epoch 87, train loss: 0.028324402970841538\n",
      "Epoch 88, train loss: 0.024611841636538578\n",
      "Epoch 89, train loss: 0.02796389382751148\n",
      "Epoch 90, train loss: 0.025956296557946252\n",
      "Epoch 91, train loss: 0.025073698171937383\n",
      "Epoch 92, train loss: 0.028324728396332093\n",
      "Epoch 93, train loss: 0.02692354192115575\n",
      "Epoch 94, train loss: 0.03012827431372436\n",
      "Epoch 95, train loss: 0.030884618735639663\n",
      "Epoch 96, train loss: 0.02497932879082931\n",
      "Epoch 97, train loss: 0.02873465841966165\n",
      "Epoch 98, train loss: 0.030157107392203484\n",
      "Epoch 99, train loss: 0.025414326791702593\n"
     ]
    }
   ],
   "source": [
    "model, losses_train = train_model(model, dataloader_wind_total, None, criterion, optimizer, num_epochs=N_EPOCHS, apply_gradient_clipping=True, grad_clip_param=grad_clip_param)"
   ]
  },
  {
   "cell_type": "code",
   "execution_count": 21,
   "metadata": {},
   "outputs": [],
   "source": [
    "torch.save(model.state_dict(), 'total_wind_1h_model.pth')"
   ]
  },
  {
   "cell_type": "code",
   "execution_count": 22,
   "metadata": {},
   "outputs": [
    {
     "data": {
      "image/png": "[encoded data removed]",
      "text/plain": [
       "<Figure size 640x480 with 1 Axes>"
      ]
     },
     "metadata": {},
     "output_type": "display_data"
    }
   ],
   "source": [
    "# plot losses\n",
    "plt.plot(losses_train, label='RMSE')\n",
    "#plt.plot(losses_val, label='val')\n",
    "plt.legend()\n",
    "plt.xlabel('Epoch')\n",
    "plt.ylabel('Loss')\n",
    "plt.savefig('loss_wind_1h_total.png')\n",
    "plt.show()\n",
    "\n"
   ]
  },
  {
   "cell_type": "code",
   "execution_count": 21,
   "metadata": {},
   "outputs": [
    {
     "name": "stdout",
     "output_type": "stream",
     "text": [
      "(26279, 25, 11) (26279, 1)\n"
     ]
    }
   ],
   "source": [
    "total_solar = np.concatenate((solar_data, solar_data_val), axis=0)\n",
    "total_solar_X, total_solar_y = move_sliding_window(total_solar, WINDOW_SIZE, range(11), 0)\n",
    "total_solar_dataset = SolarDataset(total_solar_X, total_solar_y)\n",
    "dataloader_solar_total = DataLoader(total_solar_dataset, batch_size=32, shuffle=False, drop_last=True)\n"
   ]
  },
  {
   "cell_type": "code",
   "execution_count": 22,
   "metadata": {},
   "outputs": [
    {
     "name": "stderr",
     "output_type": "stream",
     "text": [
      "c:\\Users\\Béla\\AppData\\Local\\Programs\\Python\\Python311\\Lib\\site-packages\\torch\\nn\\modules\\rnn.py:83: UserWarning: dropout option adds dropout after all but last recurrent layer, so non-zero dropout expects num_layers greater than 1, but got dropout=0.5 and num_layers=1\n",
      "  warnings.warn(\"dropout option adds dropout after all but last \"\n"
     ]
    }
   ],
   "source": [
    "#Best parameters: {'batch_size': 64, 'iterator_train__shuffle': False, 'max_epochs': 80, 'module__drop_prob': 0.5, 'module__hidden_dim': 64, 'module__n_layers': 1, 'optimizer__lr': 0.001, 'optimizer__weight_decay': 0.001}\n",
    "BAT_SIZE = 64\n",
    "HIDDEN_SIZE = 64\n",
    "NUM_LAYERS = 1\n",
    "lr = 0.001\n",
    "weight_decay = 0.001\n",
    "N_EPOCHS = 100\n",
    "DROP_PROB = 0.5\n",
    "device = torch.device(\"cuda\" if torch.cuda.is_available() else \"cpu\")\n",
    "grad_clip_param = 2\n",
    "\n",
    "solar_1h_model = GRUNet(input_dim=INPUT_SIZE, hidden_dim=HIDDEN_SIZE, output_dim=OUTPUT_SIZE, n_layers=NUM_LAYERS, drop_prob=DROP_PROB).to(device)\n",
    "optimizer = torch.optim.Adam(solar_1h_model.parameters(), lr=lr, weight_decay=0.0001)"
   ]
  },
  {
   "cell_type": "code",
   "execution_count": 23,
   "metadata": {},
   "outputs": [
    {
     "name": "stdout",
     "output_type": "stream",
     "text": [
      "Epoch 0, train loss: 0.5343758915794897\n",
      "Epoch 1, train loss: 0.5343758915794897\n",
      "Epoch 2, train loss: 0.5343758915794897\n",
      "Epoch 3, train loss: 0.5343758915794897\n",
      "Epoch 4, train loss: 0.5343758915794897\n"
     ]
    },
    {
     "ename": "KeyboardInterrupt",
     "evalue": "",
     "output_type": "error",
     "traceback": [
      "\u001b[1;31m---------------------------------------------------------------------------\u001b[0m",
      "\u001b[1;31mKeyboardInterrupt\u001b[0m                         Traceback (most recent call last)",
      "Cell \u001b[1;32mIn[23], line 1\u001b[0m\n\u001b[1;32m----> 1\u001b[0m solar_1h_model, losses_train_solar_1h \u001b[38;5;241m=\u001b[39m \u001b[43mtrain_model\u001b[49m\u001b[43m(\u001b[49m\u001b[43msolar_1h_model\u001b[49m\u001b[43m,\u001b[49m\u001b[43m \u001b[49m\u001b[43mdataloader_solar_total\u001b[49m\u001b[43m,\u001b[49m\u001b[43m \u001b[49m\u001b[38;5;28;43;01mNone\u001b[39;49;00m\u001b[43m,\u001b[49m\u001b[43m \u001b[49m\u001b[43mcriterion\u001b[49m\u001b[43m,\u001b[49m\u001b[43m \u001b[49m\u001b[43moptimizer\u001b[49m\u001b[43m,\u001b[49m\u001b[43m \u001b[49m\u001b[43mnum_epochs\u001b[49m\u001b[38;5;241;43m=\u001b[39;49m\u001b[43mN_EPOCHS\u001b[49m\u001b[43m,\u001b[49m\u001b[43m \u001b[49m\u001b[43mapply_gradient_clipping\u001b[49m\u001b[38;5;241;43m=\u001b[39;49m\u001b[38;5;28;43;01mTrue\u001b[39;49;00m\u001b[43m,\u001b[49m\u001b[43m \u001b[49m\u001b[43mgrad_clip_param\u001b[49m\u001b[38;5;241;43m=\u001b[39;49m\u001b[43mgrad_clip_param\u001b[49m\u001b[43m)\u001b[49m\n",
      "Cell \u001b[1;32mIn[20], line 24\u001b[0m, in \u001b[0;36mtrain_model\u001b[1;34m(model, train_loader, val_loader, criterion, optimizer, num_epochs, grad_clip_param, apply_gradient_clipping)\u001b[0m\n\u001b[0;32m     22\u001b[0m loss \u001b[38;5;241m=\u001b[39m torch\u001b[38;5;241m.\u001b[39msqrt(criterion(output, target\u001b[38;5;241m.\u001b[39mfloat()) \u001b[38;5;241m+\u001b[39m eps)\n\u001b[0;32m     23\u001b[0m \u001b[38;5;66;03m# gradient clipping\u001b[39;00m\n\u001b[1;32m---> 24\u001b[0m \u001b[43mloss\u001b[49m\u001b[38;5;241;43m.\u001b[39;49m\u001b[43mbackward\u001b[49m\u001b[43m(\u001b[49m\u001b[43m)\u001b[49m\n\u001b[0;32m     25\u001b[0m \u001b[38;5;28;01mif\u001b[39;00m apply_gradient_clipping:\n\u001b[0;32m     26\u001b[0m     torch\u001b[38;5;241m.\u001b[39mnn\u001b[38;5;241m.\u001b[39mutils\u001b[38;5;241m.\u001b[39mclip_grad_norm_(model\u001b[38;5;241m.\u001b[39mparameters(), grad_clip_param)\n",
      "File \u001b[1;32mc:\\Users\\Béla\\AppData\\Local\\Programs\\Python\\Python311\\Lib\\site-packages\\torch\\_tensor.py:522\u001b[0m, in \u001b[0;36mTensor.backward\u001b[1;34m(self, gradient, retain_graph, create_graph, inputs)\u001b[0m\n\u001b[0;32m    512\u001b[0m \u001b[38;5;28;01mif\u001b[39;00m has_torch_function_unary(\u001b[38;5;28mself\u001b[39m):\n\u001b[0;32m    513\u001b[0m     \u001b[38;5;28;01mreturn\u001b[39;00m handle_torch_function(\n\u001b[0;32m    514\u001b[0m         Tensor\u001b[38;5;241m.\u001b[39mbackward,\n\u001b[0;32m    515\u001b[0m         (\u001b[38;5;28mself\u001b[39m,),\n\u001b[1;32m   (...)\u001b[0m\n\u001b[0;32m    520\u001b[0m         inputs\u001b[38;5;241m=\u001b[39minputs,\n\u001b[0;32m    521\u001b[0m     )\n\u001b[1;32m--> 522\u001b[0m \u001b[43mtorch\u001b[49m\u001b[38;5;241;43m.\u001b[39;49m\u001b[43mautograd\u001b[49m\u001b[38;5;241;43m.\u001b[39;49m\u001b[43mbackward\u001b[49m\u001b[43m(\u001b[49m\n\u001b[0;32m    523\u001b[0m \u001b[43m    \u001b[49m\u001b[38;5;28;43mself\u001b[39;49m\u001b[43m,\u001b[49m\u001b[43m \u001b[49m\u001b[43mgradient\u001b[49m\u001b[43m,\u001b[49m\u001b[43m \u001b[49m\u001b[43mretain_graph\u001b[49m\u001b[43m,\u001b[49m\u001b[43m \u001b[49m\u001b[43mcreate_graph\u001b[49m\u001b[43m,\u001b[49m\u001b[43m \u001b[49m\u001b[43minputs\u001b[49m\u001b[38;5;241;43m=\u001b[39;49m\u001b[43minputs\u001b[49m\n\u001b[0;32m    524\u001b[0m \u001b[43m\u001b[49m\u001b[43m)\u001b[49m\n",
      "File \u001b[1;32mc:\\Users\\Béla\\AppData\\Local\\Programs\\Python\\Python311\\Lib\\site-packages\\torch\\autograd\\__init__.py:266\u001b[0m, in \u001b[0;36mbackward\u001b[1;34m(tensors, grad_tensors, retain_graph, create_graph, grad_variables, inputs)\u001b[0m\n\u001b[0;32m    261\u001b[0m     retain_graph \u001b[38;5;241m=\u001b[39m create_graph\n\u001b[0;32m    263\u001b[0m \u001b[38;5;66;03m# The reason we repeat the same comment below is that\u001b[39;00m\n\u001b[0;32m    264\u001b[0m \u001b[38;5;66;03m# some Python versions print out the first line of a multi-line function\u001b[39;00m\n\u001b[0;32m    265\u001b[0m \u001b[38;5;66;03m# calls in the traceback and some print out the last line\u001b[39;00m\n\u001b[1;32m--> 266\u001b[0m \u001b[43mVariable\u001b[49m\u001b[38;5;241;43m.\u001b[39;49m\u001b[43m_execution_engine\u001b[49m\u001b[38;5;241;43m.\u001b[39;49m\u001b[43mrun_backward\u001b[49m\u001b[43m(\u001b[49m\u001b[43m  \u001b[49m\u001b[38;5;66;43;03m# Calls into the C++ engine to run the backward pass\u001b[39;49;00m\n\u001b[0;32m    267\u001b[0m \u001b[43m    \u001b[49m\u001b[43mtensors\u001b[49m\u001b[43m,\u001b[49m\n\u001b[0;32m    268\u001b[0m \u001b[43m    \u001b[49m\u001b[43mgrad_tensors_\u001b[49m\u001b[43m,\u001b[49m\n\u001b[0;32m    269\u001b[0m \u001b[43m    \u001b[49m\u001b[43mretain_graph\u001b[49m\u001b[43m,\u001b[49m\n\u001b[0;32m    270\u001b[0m \u001b[43m    \u001b[49m\u001b[43mcreate_graph\u001b[49m\u001b[43m,\u001b[49m\n\u001b[0;32m    271\u001b[0m \u001b[43m    \u001b[49m\u001b[43minputs\u001b[49m\u001b[43m,\u001b[49m\n\u001b[0;32m    272\u001b[0m \u001b[43m    \u001b[49m\u001b[43mallow_unreachable\u001b[49m\u001b[38;5;241;43m=\u001b[39;49m\u001b[38;5;28;43;01mTrue\u001b[39;49;00m\u001b[43m,\u001b[49m\n\u001b[0;32m    273\u001b[0m \u001b[43m    \u001b[49m\u001b[43maccumulate_grad\u001b[49m\u001b[38;5;241;43m=\u001b[39;49m\u001b[38;5;28;43;01mTrue\u001b[39;49;00m\u001b[43m,\u001b[49m\n\u001b[0;32m    274\u001b[0m \u001b[43m\u001b[49m\u001b[43m)\u001b[49m\n",
      "\u001b[1;31mKeyboardInterrupt\u001b[0m: "
     ]
    }
   ],
   "source": [
    "solar_1h_model, losses_train_solar_1h = train_model(solar_1h_model, dataloader_solar_total, None, criterion, optimizer, num_epochs=N_EPOCHS, apply_gradient_clipping=True, grad_clip_param=grad_clip_param)"
   ]
  },
  {
   "cell_type": "code",
   "execution_count": null,
   "metadata": {},
   "outputs": [],
   "source": [
    "torch.save(solar_1h_model.state_dict(), 'total_solar_1h_model.pth')"
   ]
  },
  {
   "cell_type": "code",
   "execution_count": null,
   "metadata": {},
   "outputs": [],
   "source": [
    "plt.plot(losses_train_solar_1h, label='RMSE')\n",
    "plt.legend()\n",
    "plt.xlabel('Epoch')\n",
    "plt.ylabel('Loss')\n",
    "plt.savefig('loss_solar_1h_total.png')\n",
    "plt.show()\n"
   ]
  },
  {
   "cell_type": "code",
   "execution_count": null,
   "metadata": {},
   "outputs": [],
   "source": [
    "def move_sliding_window_2(data, window_size, inputs_cols_indices, label_col_index, forecast_horizon=24):\n",
    "    \"\"\"\n",
    "    data: numpy array including data\n",
    "    window_size: size of window\n",
    "    inputs_cols_indices: col indices to include\n",
    "    label_col_index: index of the label column in data\n",
    "    forecast_horizon: number of time steps ahead to predict\n",
    "    \"\"\"\n",
    "\n",
    "    # Calculate the number of instances based on the available data minus the window size and forecast horizon\n",
    "    num_instances = len(data) - window_size - forecast_horizon + 1\n",
    "\n",
    "    # (# instances created by movement, seq_len (timestamps), # features (input_len))\n",
    "    inputs = np.zeros((num_instances, window_size, len(inputs_cols_indices)))\n",
    "    labels = np.zeros(num_instances)\n",
    "\n",
    "    for i in range(num_instances):\n",
    "        inputs[i] = data[i:i + window_size, inputs_cols_indices]\n",
    "        labels[i] = data[i + window_size + forecast_horizon - 1, label_col_index]  # Label is forecast_horizon steps ahead\n",
    "    inputs = inputs.reshape(-1, window_size, len(inputs_cols_indices))\n",
    "    labels = labels.reshape(-1, 1)\n",
    "    print(inputs.shape, labels.shape)\n",
    "\n",
    "    return inputs, labels"
   ]
  },
  {
   "cell_type": "code",
   "execution_count": null,
   "metadata": {},
   "outputs": [],
   "source": [
    "total_solar_24h_X, total_solar_24h_y = move_sliding_window_2(total_solar, WINDOW_SIZE, range(11), 0, forecast_horizon=24)\n",
    "total_solar_24h_dataset = SolarDataset(total_solar_24h_X, total_solar_24h_y)\n",
    "dataloader_solar_total_24h = DataLoader(total_solar_24h_dataset, batch_size=32, shuffle=False, drop_last=True)\n"
   ]
  },
  {
   "cell_type": "code",
   "execution_count": null,
   "metadata": {},
   "outputs": [],
   "source": [
    "#est parameters: {'batch_size': 64, 'iterator_train__shuffle': False, 'max_epochs': 80, 'module__drop_prob': 0.5, 'module__hidden_dim': 16, 'module__n_layers': 1, 'optimizer__lr': 0.001, 'optimizer__weight_decay': 0.001}\n",
    "BATCH_SIZE = 64\n",
    "EPOCHS = 100\n",
    "HIDDEN_SIZE = 16\n",
    "NUM_LAYERS = 1\n",
    "lr = 0.001\n",
    "weight_decay = 0.001\n",
    "DROP_PROB = 0.5\n",
    "grad_clip_param = 2\n",
    "\n",
    "model_solar_24h = GRUNet(input_dim=INPUT_SIZE, hidden_dim=HIDDEN_SIZE, output_dim=OUTPUT_SIZE, n_layers=NUM_LAYERS, drop_prob=DROP_PROB).to(device)\n"
   ]
  }
 ],
 "metadata": {
  "kernelspec": {
   "display_name": "Python 3",
   "language": "python",
   "name": "python3"
  },
  "language_info": {
   "codemirror_mode": {
    "name": "ipython",
    "version": 3
   },
   "file_extension": ".py",
   "mimetype": "text/x-python",
   "name": "python",
   "nbconvert_exporter": "python",
   "pygments_lexer": "ipython3",
   "version": "3.11.8"
  }
 },
 "nbformat": 4,
 "nbformat_minor": 2
}

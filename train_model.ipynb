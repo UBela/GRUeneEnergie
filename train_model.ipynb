{
 "cells": [
  {
   "cell_type": "code",
   "execution_count": 1,
   "metadata": {},
   "outputs": [],
   "source": [
    "import numpy as np\n",
    "import matplotlib.pyplot as plt\n",
    "import torch\n",
    "from torch import nn\n",
    "import os \n",
    "import sys\n",
    "from torch.utils.data import Dataset, DataLoader\n",
    "import pandas as pd\n",
    "from collections import defaultdict \n"
   ]
  },
  {
   "cell_type": "code",
   "execution_count": 2,
   "metadata": {},
   "outputs": [],
   "source": [
    "WINDOW_SIZE = 25"
   ]
  },
  {
   "cell_type": "code",
   "execution_count": 3,
   "metadata": {},
   "outputs": [],
   "source": [
    "#TODO make supervised learning dataset from csv files\n",
    "#TODO build dataloader\n",
    "solar_data = np.genfromtxt('data\\\\training_data\\\\train_solar.csv', delimiter=',', skip_header=1)\n",
    "wind_data = np.genfromtxt('data\\\\training_data\\\\train_wind.csv', delimiter=',',skip_header=1)\n"
   ]
  },
  {
   "cell_type": "code",
   "execution_count": 4,
   "metadata": {},
   "outputs": [
    {
     "data": {
      "text/plain": [
       "((17544, 11), (17544, 11))"
      ]
     },
     "execution_count": 4,
     "metadata": {},
     "output_type": "execute_result"
    }
   ],
   "source": [
    "solar_data.shape, wind_data.shape"
   ]
  },
  {
   "cell_type": "code",
   "execution_count": 5,
   "metadata": {},
   "outputs": [],
   "source": [
    "def move_sliding_window(data, window_size, inputs_cols_indices, label_col_index):\n",
    "    \"\"\"\n",
    "    data: numpy array including data\n",
    "    window_size: size of window\n",
    "    inputs_cols_indices: col indices to include\n",
    "    \"\"\"\n",
    "\n",
    "    # (# instances created by movement, seq_len (timestamps), # features (input_len))\n",
    "    inputs = np.zeros((len(data) - window_size, window_size, len(inputs_cols_indices)))\n",
    "    labels = np.zeros(len(data) - window_size)\n",
    "\n",
    "    for i in range(window_size, len(data)):\n",
    "        inputs[i - window_size] = data[i - window_size : i, inputs_cols_indices]\n",
    "        labels[i - window_size] = data[i, label_col_index]\n",
    "    inputs = inputs.reshape(-1, window_size, len(inputs_cols_indices))\n",
    "    labels = labels.reshape(-1, 1)\n",
    "    print(inputs.shape, labels.shape)\n",
    "\n",
    "    return inputs, labels"
   ]
  },
  {
   "cell_type": "code",
   "execution_count": 6,
   "metadata": {},
   "outputs": [],
   "source": [
    "def move_sliding_window_24h(data, window_size, inputs_cols_indices, label_col_index, forecast_horizon=24):\n",
    "    \"\"\"\n",
    "    data: numpy array including data\n",
    "    window_size: size of window\n",
    "    inputs_cols_indices: col indices to include\n",
    "    label_col_index: index of the label column in data\n",
    "    forecast_horizon: number of time steps ahead to predict\n",
    "    \"\"\"\n",
    "\n",
    "    # Calculate the number of instances based on the available data minus the window size and forecast horizon\n",
    "    num_instances = len(data) - window_size - forecast_horizon + 1\n",
    "\n",
    "    # (# instances created by movement, seq_len (timestamps), # features (input_len))\n",
    "    inputs = np.zeros((num_instances, window_size, len(inputs_cols_indices)))\n",
    "    labels = np.zeros(num_instances)\n",
    "\n",
    "    for i in range(num_instances):\n",
    "        inputs[i] = data[i:i + window_size, inputs_cols_indices]\n",
    "        labels[i] = data[i + window_size + forecast_horizon - 1, label_col_index]  # Label is forecast_horizon steps ahead\n",
    "\n",
    "    print(inputs.shape, labels.shape)\n",
    "\n",
    "    return inputs, labels"
   ]
  },
  {
   "cell_type": "code",
   "execution_count": 7,
   "metadata": {},
   "outputs": [
    {
     "name": "stdout",
     "output_type": "stream",
     "text": [
      "(17519, 25, 11) (17519, 1)\n",
      "(17519, 25, 11) (17519, 1)\n"
     ]
    }
   ],
   "source": [
    "solar_X, solar_y = move_sliding_window(solar_data, WINDOW_SIZE, range(11), 0)\n",
    "wind_X, wind_y = move_sliding_window(wind_data, WINDOW_SIZE, range(11), 0)"
   ]
  },
  {
   "cell_type": "code",
   "execution_count": 8,
   "metadata": {},
   "outputs": [
    {
     "name": "stdout",
     "output_type": "stream",
     "text": [
      "[[-1.         -1.         -1.         -1.         -0.39492153  0.21077271\n",
      "   0.          1.          1.          1.          1.        ]\n",
      " [-1.         -1.         -1.         -1.         -0.39191435  0.21077271\n",
      "   1.          1.          1.          1.          1.        ]\n",
      " [-1.         -1.         -1.         -1.         -0.39321545  0.21077271\n",
      "   2.          1.          1.          1.          1.        ]\n",
      " [-1.         -1.         -1.         -1.         -0.39499721  0.21077271\n",
      "   3.          1.          1.          1.          1.        ]\n",
      " [-1.         -1.         -1.         -1.         -0.39659511  0.21077271\n",
      "   4.          1.          1.          1.          1.        ]\n",
      " [-1.         -1.         -1.         -1.         -0.39866141  0.21077271\n",
      "   5.          1.          1.          1.          1.        ]\n",
      " [-1.         -1.         -1.         -1.         -0.40071957  0.21077271\n",
      "   6.          1.          1.          1.          1.        ]\n",
      " [-1.         -0.99999988 -0.99999955 -1.         -0.40273931  0.21077271\n",
      "   7.          1.          1.          1.          1.        ]\n",
      " [-0.99853643 -0.99972145 -0.99931288 -0.99889496 -0.40407701  0.213805\n",
      "   8.          1.          1.          1.          1.        ]\n",
      " [-0.98929614 -0.99782193 -0.9954876  -0.9923473  -0.40284649  0.23641761\n",
      "   9.          1.          1.          1.          1.        ]\n",
      " [-0.96981727 -0.99303483 -0.98698748 -0.97767768 -0.39909725  0.28255127\n",
      "  10.          1.          1.          1.          1.        ]\n",
      " [-0.94386172 -0.98444738 -0.97311783 -0.95497492 -0.39420079  0.33970077\n",
      "  11.          1.          1.          1.          1.        ]\n",
      " [-0.91972428 -0.97255544 -0.95463834 -0.92594911 -0.38939845  0.3928102\n",
      "  12.          1.          1.          1.          1.        ]\n",
      " [-0.90233704 -0.9584131  -0.93295393 -0.89033537 -0.38637763  0.42927765\n",
      "  13.          1.          1.          1.          1.        ]\n",
      " [-0.89661751 -0.94385861 -0.91027532 -0.85133526 -0.38565071  0.44081332\n",
      "  14.          1.          1.          1.          1.        ]\n",
      " [-0.90230602 -0.93031973 -0.88873051 -0.81249776 -0.38785276  0.42824321\n",
      "  15.          1.          1.          1.          1.        ]\n",
      " [-0.91235789 -0.91851156 -0.86984705 -0.77819059 -0.39309527  0.40597748\n",
      "  16.          1.          1.          1.          1.        ]\n",
      " [-0.92138079 -0.90821363 -0.85337878 -0.74827128 -0.39905     0.38588082\n",
      "  17.          1.          1.          1.          1.        ]\n",
      " [-0.92929317 -0.89918317 -0.83893739 -0.7220344  -0.4059161   0.36825763\n",
      "  18.          1.          1.          1.          1.        ]\n",
      " [-0.93626531 -0.89122579 -0.82621209 -0.69891526 -0.41373908  0.35272862\n",
      "  19.          1.          1.          1.          1.        ]\n",
      " [-0.94243516 -0.88418409 -0.81495111 -0.67845648 -0.42138304  0.33898655\n",
      "  20.          1.          1.          1.          1.        ]\n",
      " [-0.94791563 -0.87792917 -0.80494834 -0.66028361 -0.42959775  0.32677992\n",
      "  21.          1.          1.          1.          1.        ]\n",
      " [-0.95280007 -0.87235452 -0.79603345 -0.64408717 -0.43792583  0.31590085\n",
      "  22.          1.          1.          1.          1.        ]\n",
      " [-0.95716628 -0.86737132 -0.78806439 -0.62960911 -0.44595844  0.30617601\n",
      "  23.          1.          1.          1.          1.        ]\n",
      " [-0.96107966 -0.87948857 -0.8074273  -0.66344887 -0.45576854  0.06130266\n",
      "   0.          2.          2.          1.          2.        ]] \n",
      " [-0.96459556]\n"
     ]
    }
   ],
   "source": [
    "print(solar_X[0], '\\n', solar_y[0])\n"
   ]
  },
  {
   "cell_type": "code",
   "execution_count": 8,
   "metadata": {},
   "outputs": [],
   "source": [
    "#create dataset\n",
    "class SolarDataset(Dataset):\n",
    "    def __init__(self, inputs, output):\n",
    "        self.inputs = inputs\n",
    "        self.output = output\n",
    "\n",
    "    def __len__(self):\n",
    "        return len(self.inputs)\n",
    "\n",
    "    def __getitem__(self, idx):\n",
    "        return self.inputs[idx], self.output[idx]\n",
    "\n",
    "solar_dataset = SolarDataset(solar_X, solar_y)\n",
    "wind_dataset = SolarDataset(wind_X, wind_y)\n",
    "dataloader_solar = DataLoader(solar_dataset, batch_size=32, shuffle=False, drop_last=True) \n",
    "dataloader_wind = DataLoader(wind_dataset, batch_size=32, shuffle=False, drop_last=True)  \n",
    "  \n"
   ]
  },
  {
   "cell_type": "code",
   "execution_count": 9,
   "metadata": {},
   "outputs": [
    {
     "name": "stdout",
     "output_type": "stream",
     "text": [
      "(8735, 25, 11) (8735, 1)\n"
     ]
    }
   ],
   "source": [
    "solar_data_val = np.genfromtxt('data\\\\training_data\\\\val_solar.csv', delimiter=',', skip_header=1)\n",
    "solar_X_val, solar_y_val = move_sliding_window(solar_data_val, WINDOW_SIZE, range(11), 0)\n",
    "solar_dataset_val = SolarDataset(solar_X_val, solar_y_val)\n",
    "dataloader_solar_val = DataLoader(solar_dataset_val, batch_size=32, shuffle=False, drop_last=True)"
   ]
  },
  {
   "cell_type": "code",
   "execution_count": 10,
   "metadata": {},
   "outputs": [
    {
     "name": "stdout",
     "output_type": "stream",
     "text": [
      "(8735, 25, 11) (8735, 1)\n"
     ]
    }
   ],
   "source": [
    "wind_data_val = np.genfromtxt('data\\\\training_data\\\\val_wind.csv', delimiter=',', skip_header=1)\n",
    "wind_X_val, wind_y_val = move_sliding_window(wind_data_val, WINDOW_SIZE, range(11), 0)\n",
    "wind_dataset_val = SolarDataset(wind_X_val, wind_y_val)\n",
    "dataloader_wind_val = DataLoader(wind_dataset_val, batch_size=32, shuffle=False, drop_last=True)"
   ]
  },
  {
   "cell_type": "code",
   "execution_count": 12,
   "metadata": {},
   "outputs": [
    {
     "name": "stdout",
     "output_type": "stream",
     "text": [
      "731.0\n"
     ]
    }
   ],
   "source": [
    "alpha = 2\n",
    "N_h = solar_data.shape[0] / (alpha * (11 + 1))\n",
    "print(N_h)"
   ]
  },
  {
   "cell_type": "code",
   "execution_count": 11,
   "metadata": {},
   "outputs": [],
   "source": [
    "from GRU_model import GRUNet\n",
    "\n",
    "INPUT_SIZE = solar_X.shape[2]\n",
    "HIDDEN_SIZE = 16\n",
    "NUM_LAYERS = 2\n",
    "OUTPUT_SIZE = solar_y.shape[1]\n",
    "DROP_PROB = .5\n",
    "lr = 0.001"
   ]
  },
  {
   "cell_type": "code",
   "execution_count": 14,
   "metadata": {},
   "outputs": [
    {
     "name": "stdout",
     "output_type": "stream",
     "text": [
      "11 1\n"
     ]
    }
   ],
   "source": [
    "print(INPUT_SIZE, OUTPUT_SIZE)"
   ]
  },
  {
   "cell_type": "code",
   "execution_count": 12,
   "metadata": {},
   "outputs": [
    {
     "data": {
      "text/plain": [
       "GRUNet(\n",
       "  (gru): GRU(11, 16, num_layers=2, batch_first=True, dropout=0.5)\n",
       "  (fc): Linear(in_features=16, out_features=1, bias=True)\n",
       ")"
      ]
     },
     "execution_count": 12,
     "metadata": {},
     "output_type": "execute_result"
    }
   ],
   "source": [
    "\n",
    "device = torch.device(\"cuda\" if torch.cuda.is_available() else \"cpu\")\n",
    "model = GRUNet(input_dim=INPUT_SIZE, hidden_dim=HIDDEN_SIZE, output_dim=OUTPUT_SIZE, n_layers=NUM_LAYERS, drop_prob=DROP_PROB).to(device)\n",
    "model"
   ]
  },
  {
   "cell_type": "code",
   "execution_count": 13,
   "metadata": {},
   "outputs": [],
   "source": [
    "criterion = nn.MSELoss()\n",
    "optimizer = torch.optim.Adam(model.parameters(), lr=lr)"
   ]
  },
  {
   "cell_type": "code",
   "execution_count": 17,
   "metadata": {},
   "outputs": [],
   "source": [
    "class EarlyStopping:\n",
    "    def __init__(self, tolerance=5, min_delta=0):\n",
    "\n",
    "        self.tolerance = tolerance\n",
    "        self.min_delta = min_delta\n",
    "        self.counter = 0\n",
    "        self.early_stop = False\n",
    "\n",
    "    def __call__(self, train_loss, validation_loss):\n",
    "        if (validation_loss - train_loss) > self.min_delta:\n",
    "            self.counter +=1\n",
    "            if self.counter >= self.tolerance:  \n",
    "                self.early_stop = True"
   ]
  },
  {
   "cell_type": "code",
   "execution_count": 18,
   "metadata": {},
   "outputs": [],
   "source": [
    "early_stopping = EarlyStopping(tolerance=5, min_delta=0.0001)"
   ]
  },
  {
   "cell_type": "code",
   "execution_count": 14,
   "metadata": {},
   "outputs": [],
   "source": [
    "def train_model(model, train_loader, val_loader, criterion, optimizer, num_epochs, grad_clip_param, apply_gradient_clipping=False, data_type='solar', forecast_horizon=1):   \n",
    "    model.train()\n",
    "    losses_train = []\n",
    "    losses_val = [] \n",
    "    best_val_loss = np.inf\n",
    "    best_epoch = 0\n",
    "    eps = 1e-6\n",
    "    \n",
    "    model_name = f'{data_type}_{forecast_horizon}h_model.pth'\n",
    "    \n",
    "    \n",
    "    for epoch in range(num_epochs):\n",
    "        train_losses = []\n",
    "        for i, (input, target) in enumerate(train_loader):\n",
    "            \n",
    "            \n",
    "            input, target  = input.to(device), target.to(device)\n",
    "        \n",
    "            optimizer.zero_grad()\n",
    "            \n",
    "            h = model.init_hidden(input.size(0)).to(device)\n",
    "            \n",
    "            output, hidden = model(input.float(), h)\n",
    "\n",
    "            loss = torch.sqrt(criterion(output, target.float()) + eps)\n",
    "            # gradient clipping\n",
    "            loss.backward()\n",
    "            if apply_gradient_clipping:\n",
    "                torch.nn.utils.clip_grad_norm_(model.parameters(), grad_clip_param)\n",
    "            optimizer.step()\n",
    "            \n",
    "            train_losses.append(loss.item())\n",
    "\n",
    "        # validate\n",
    "        \n",
    "        model.eval()\n",
    "        val_losses = []\n",
    "        with torch.no_grad():\n",
    "            for i, (input, target) in enumerate(val_loader):\n",
    "                input, target  = input.to(device), target.to(device)\n",
    "                h = model.init_hidden(input.size(0)).to(device)\n",
    "                output, hidden = model(input.float(), h)\n",
    "                    \n",
    "                val_loss = criterion(output, target.float())\n",
    "                val_losses.append(val_loss.item())\n",
    "        \n",
    "        #print epoch results\n",
    "        print(f'Epoch {epoch}, train loss: {np.mean(train_losses)}, val loss: {np.mean(val_losses)}')\n",
    "\n",
    "                \n",
    "        losses_train.append(np.mean(train_losses))\n",
    "        losses_val.append(np.mean(val_losses))\n",
    "        # save best model\n",
    "        if np.mean(val_losses) < best_val_loss:\n",
    "            best_val_loss = np.mean(val_losses)\n",
    "            best_epoch = epoch\n",
    "            torch.save(model.state_dict(), model_name)\n",
    "            \n",
    "        \n",
    "        \n",
    "    return model, losses_train, losses_val"
   ]
  },
  {
   "cell_type": "markdown",
   "metadata": {},
   "source": [
    "Retrain Model on entire dataset using the before found hyperparameters"
   ]
  },
  {
   "cell_type": "code",
   "execution_count": 22,
   "metadata": {},
   "outputs": [
    {
     "name": "stderr",
     "output_type": "stream",
     "text": [
      "c:\\Users\\belau\\AppData\\Local\\Programs\\Python\\Python310\\lib\\site-packages\\torch\\nn\\modules\\rnn.py:83: UserWarning: dropout option adds dropout after all but last recurrent layer, so non-zero dropout expects num_layers greater than 1, but got dropout=0.5 and num_layers=1\n",
      "  warnings.warn(\"dropout option adds dropout after all but last \"\n"
     ]
    }
   ],
   "source": [
    "#Best parameters: {'batch_size': 16, 'iterator_train__shuffle': False, 'max_epochs': 80, 'module__drop_prob': 0.5, 'module__hidden_dim': 16, 'module__n_layers': 1, 'optimizer__lr': 0.001, 'optimizer__weight_decay': 0.0001}\n",
    "\n",
    "HIDDEN_SIZE = 16\n",
    "NUM_LAYERS = 1\n",
    "lr = 0.001\n",
    "weight_decay = 0.001\n",
    "N_EPOCHS = 100\n",
    "DROP_PROB = 0.5\n",
    "device = torch.device(\"cuda\" if torch.cuda.is_available() else \"cpu\")\n",
    "grad_clip_param = 2\n",
    "\n",
    "\n",
    "\n",
    "model = GRUNet(input_dim=INPUT_SIZE, hidden_dim=HIDDEN_SIZE, output_dim=OUTPUT_SIZE, n_layers=NUM_LAYERS, drop_prob=DROP_PROB).to(device)\n",
    "optimizer = torch.optim.Adam(model.parameters(), lr=lr, weight_decay=0.0001)"
   ]
  },
  {
   "cell_type": "code",
   "execution_count": 19,
   "metadata": {},
   "outputs": [
    {
     "name": "stdout",
     "output_type": "stream",
     "text": [
      "(26279, 25, 11) (26279, 1)\n"
     ]
    }
   ],
   "source": [
    "# retrain on entire dataset \n",
    "wind_total = np.concatenate((wind_data, wind_data_val), axis=0)\n",
    "wind_total_X, wind_total_y = move_sliding_window(wind_total, WINDOW_SIZE, range(11), 0)\n",
    "wind_total_dataset = SolarDataset(wind_total_X, wind_total_y)\n",
    "dataloader_wind_total = DataLoader(wind_total_dataset, batch_size=32, shuffle=False, drop_last=True)"
   ]
  },
  {
   "cell_type": "code",
   "execution_count": 20,
   "metadata": {},
   "outputs": [
    {
     "name": "stdout",
     "output_type": "stream",
     "text": [
      "Epoch 0, train loss: 0.3566136930986386\n",
      "Epoch 1, train loss: 0.34242739341018696\n",
      "Epoch 2, train loss: 0.3292815538120981\n",
      "Epoch 3, train loss: 0.2820586117299843\n",
      "Epoch 4, train loss: 0.17568438879501225\n",
      "Epoch 5, train loss: 0.1353227472597513\n",
      "Epoch 6, train loss: 0.12383510290909372\n",
      "Epoch 7, train loss: 0.1170544926208715\n",
      "Epoch 8, train loss: 0.10043174195490169\n",
      "Epoch 9, train loss: 0.08791557144845556\n",
      "Epoch 10, train loss: 0.08990672212513788\n",
      "Epoch 11, train loss: 0.07711570228741535\n",
      "Epoch 12, train loss: 0.07357874988259501\n",
      "Epoch 13, train loss: 0.0663940989725455\n",
      "Epoch 14, train loss: 0.06042445482556843\n",
      "Epoch 15, train loss: 0.057545808112434815\n",
      "Epoch 16, train loss: 0.057701378731209056\n",
      "Epoch 17, train loss: 0.04125715897534265\n",
      "Epoch 18, train loss: 0.03993344711974699\n",
      "Epoch 19, train loss: 0.03731393122741551\n",
      "Epoch 20, train loss: 0.04178936425290194\n",
      "Epoch 21, train loss: 0.029520725078163862\n",
      "Epoch 22, train loss: 0.030725766763422323\n",
      "Epoch 23, train loss: 0.03073851256200252\n",
      "Epoch 24, train loss: 0.027065041385807696\n",
      "Epoch 25, train loss: 0.028531415961698676\n",
      "Epoch 26, train loss: 0.028396818987360444\n",
      "Epoch 27, train loss: 0.03220008195524788\n",
      "Epoch 28, train loss: 0.03603275676726406\n",
      "Epoch 29, train loss: 0.029414492034513264\n",
      "Epoch 30, train loss: 0.03951287304190749\n",
      "Epoch 31, train loss: 0.02892754070719434\n",
      "Epoch 32, train loss: 0.02802411971520746\n",
      "Epoch 33, train loss: 0.030156534204563528\n",
      "Epoch 34, train loss: 0.030321307528404413\n",
      "Epoch 35, train loss: 0.03480302097857788\n",
      "Epoch 36, train loss: 0.035179878317895055\n",
      "Epoch 37, train loss: 0.03608181548302587\n",
      "Epoch 38, train loss: 0.02863779110605993\n",
      "Epoch 39, train loss: 0.02641647175662265\n",
      "Epoch 40, train loss: 0.025762761740556188\n",
      "Epoch 41, train loss: 0.02573411182322325\n",
      "Epoch 42, train loss: 0.032699763415558275\n",
      "Epoch 43, train loss: 0.026208564852070557\n",
      "Epoch 44, train loss: 0.03292848733673496\n",
      "Epoch 45, train loss: 0.032388239582812235\n",
      "Epoch 46, train loss: 0.03008404019998838\n",
      "Epoch 47, train loss: 0.028079133828473476\n",
      "Epoch 48, train loss: 0.027548169602337094\n",
      "Epoch 49, train loss: 0.034499014752443956\n",
      "Epoch 50, train loss: 0.025201435477657744\n",
      "Epoch 51, train loss: 0.02447964824496765\n",
      "Epoch 52, train loss: 0.030016418822375143\n",
      "Epoch 53, train loss: 0.026546563453468678\n",
      "Epoch 54, train loss: 0.034892389762082594\n",
      "Epoch 55, train loss: 0.02677032346389144\n",
      "Epoch 56, train loss: 0.03931044452102236\n",
      "Epoch 57, train loss: 0.02841112448098807\n",
      "Epoch 58, train loss: 0.02506176436980154\n",
      "Epoch 59, train loss: 0.024645613446881615\n",
      "Epoch 60, train loss: 0.02403228376576865\n",
      "Epoch 61, train loss: 0.02702488815105644\n",
      "Epoch 62, train loss: 0.02826724662054126\n",
      "Epoch 63, train loss: 0.03195044479755987\n",
      "Epoch 64, train loss: 0.029807959249624292\n",
      "Epoch 65, train loss: 0.0283593030654384\n",
      "Epoch 66, train loss: 0.02654734337628659\n",
      "Epoch 67, train loss: 0.027891751110494755\n",
      "Epoch 68, train loss: 0.026223201496950857\n",
      "Epoch 69, train loss: 0.022799638501537486\n",
      "Epoch 70, train loss: 0.023352025598985224\n",
      "Epoch 71, train loss: 0.024370588647228884\n",
      "Epoch 72, train loss: 0.031177830533266303\n",
      "Epoch 73, train loss: 0.036245889624242696\n",
      "Epoch 74, train loss: 0.02521210151467014\n",
      "Epoch 75, train loss: 0.029758182196309574\n",
      "Epoch 76, train loss: 0.024343261999179053\n",
      "Epoch 77, train loss: 0.025595551840200948\n",
      "Epoch 78, train loss: 0.02680888986095886\n",
      "Epoch 79, train loss: 0.02567313000107191\n",
      "Epoch 80, train loss: 0.026764120859514816\n",
      "Epoch 81, train loss: 0.028673988891466\n",
      "Epoch 82, train loss: 0.02688455222861957\n",
      "Epoch 83, train loss: 0.029254668515604376\n",
      "Epoch 84, train loss: 0.025855754644481803\n",
      "Epoch 85, train loss: 0.03196749920433843\n",
      "Epoch 86, train loss: 0.029223090414883485\n",
      "Epoch 87, train loss: 0.028324402970841538\n",
      "Epoch 88, train loss: 0.024611841636538578\n",
      "Epoch 89, train loss: 0.02796389382751148\n",
      "Epoch 90, train loss: 0.025956296557946252\n",
      "Epoch 91, train loss: 0.025073698171937383\n",
      "Epoch 92, train loss: 0.028324728396332093\n",
      "Epoch 93, train loss: 0.02692354192115575\n",
      "Epoch 94, train loss: 0.03012827431372436\n",
      "Epoch 95, train loss: 0.030884618735639663\n",
      "Epoch 96, train loss: 0.02497932879082931\n",
      "Epoch 97, train loss: 0.02873465841966165\n",
      "Epoch 98, train loss: 0.030157107392203484\n",
      "Epoch 99, train loss: 0.025414326791702593\n"
     ]
    }
   ],
   "source": [
    "model, losses_train = train_model(model, dataloader_wind_total, None, criterion, optimizer, num_epochs=N_EPOCHS, apply_gradient_clipping=True, grad_clip_param=grad_clip_param)"
   ]
  },
  {
   "cell_type": "code",
   "execution_count": 21,
   "metadata": {},
   "outputs": [],
   "source": [
    "torch.save(model.state_dict(), 'total_wind_1h_model.pth')"
   ]
  },
  {
   "cell_type": "code",
   "execution_count": 22,
   "metadata": {},
   "outputs": [
    {
     "data": {
      "image/png": "[encoded data removed]",
      "text/plain": [
       "<Figure size 640x480 with 1 Axes>"
      ]
     },
     "metadata": {},
     "output_type": "display_data"
    }
   ],
   "source": [
    "# plot losses\n",
    "plt.plot(losses_train, label='RMSE')\n",
    "#plt.plot(losses_val, label='val')\n",
    "plt.legend()\n",
    "plt.xlabel('Epoch')\n",
    "plt.ylabel('Loss')\n",
    "plt.savefig('loss_wind_1h_total.png')\n",
    "plt.show()\n",
    "\n"
   ]
  },
  {
   "cell_type": "code",
   "execution_count": 16,
   "metadata": {},
   "outputs": [
    {
     "name": "stdout",
     "output_type": "stream",
     "text": [
      "(26279, 25, 11) (26279, 1)\n"
     ]
    }
   ],
   "source": [
    "total_solar = np.concatenate((solar_data, solar_data_val), axis=0)\n",
    "total_solar_X, total_solar_y = move_sliding_window(total_solar, WINDOW_SIZE, range(11), 0)\n",
    "total_solar_dataset = SolarDataset(total_solar_X, total_solar_y)\n",
    "dataloader_solar_total = DataLoader(total_solar_dataset, batch_size=32, shuffle=False, drop_last=True)\n"
   ]
  },
  {
   "cell_type": "code",
   "execution_count": 29,
   "metadata": {},
   "outputs": [
    {
     "name": "stderr",
     "output_type": "stream",
     "text": [
      "c:\\Users\\belau\\AppData\\Local\\Programs\\Python\\Python310\\lib\\site-packages\\torch\\nn\\modules\\rnn.py:83: UserWarning: dropout option adds dropout after all but last recurrent layer, so non-zero dropout expects num_layers greater than 1, but got dropout=0.5 and num_layers=1\n",
      "  warnings.warn(\"dropout option adds dropout after all but last \"\n"
     ]
    },
    {
     "data": {
      "text/plain": [
       "GRUNet(\n",
       "  (gru): GRU(11, 64, batch_first=True, dropout=0.5)\n",
       "  (fc): Linear(in_features=64, out_features=1, bias=True)\n",
       ")"
      ]
     },
     "execution_count": 29,
     "metadata": {},
     "output_type": "execute_result"
    }
   ],
   "source": [
    "#Best parameters: {'batch_size': 64, 'iterator_train__shuffle': False, 'max_epochs': 80, 'module__drop_prob': 0.5, 'module__hidden_dim': 64, 'module__n_layers': 1, 'optimizer__lr': 0.001, 'optimizer__weight_decay': 0.001}\n",
    "BAT_SIZE = 64\n",
    "HIDDEN_SIZE = 64\n",
    "NUM_LAYERS = 1\n",
    "lr = 0.001\n",
    "weight_decay = 0.001\n",
    "N_EPOCHS = 100\n",
    "DROP_PROB = 0.5\n",
    "device = torch.device(\"cuda\" if torch.cuda.is_available() else \"cpu\")\n",
    "grad_clip_param = 2\n",
    "\n",
    "solar_1h_model = GRUNet(input_dim=INPUT_SIZE, hidden_dim=HIDDEN_SIZE, output_dim=OUTPUT_SIZE, n_layers=NUM_LAYERS, drop_prob=DROP_PROB).to(device)\n",
    "optimizer = torch.optim.Adam(solar_1h_model.parameters(), lr=lr, weight_decay=0.0001)\n",
    "solar_1h_model"
   ]
  },
  {
   "cell_type": "code",
   "execution_count": 31,
   "metadata": {},
   "outputs": [
    {
     "name": "stdout",
     "output_type": "stream",
     "text": [
      "Epoch 0, train loss: 0.22851032306741534, val loss: 0.34410042403011604\n",
      "Epoch 1, train loss: 0.2348556626567675, val loss: 0.32038692676895364\n",
      "Epoch 2, train loss: 0.22260033522461842, val loss: 0.2725840232460006\n",
      "Epoch 3, train loss: 0.22858205285107197, val loss: 0.26285567984964203\n",
      "Epoch 4, train loss: 0.2366843774533359, val loss: 0.21075939639002386\n",
      "Epoch 5, train loss: 0.22479123338185236, val loss: 0.2413584666668184\n",
      "Epoch 6, train loss: 0.2054677391169385, val loss: 0.22979782340938554\n",
      "Epoch 7, train loss: 0.19014512572498818, val loss: 0.2056619231516379\n",
      "Epoch 8, train loss: 0.16156941531072805, val loss: 0.21414266915363603\n",
      "Epoch 9, train loss: 0.14442794236066792, val loss: 0.08882313354714665\n",
      "Epoch 10, train loss: 0.11717954393428574, val loss: 0.03966868960089735\n",
      "Epoch 11, train loss: 0.100185059746506, val loss: 0.02933797546724878\n",
      "Epoch 12, train loss: 0.1055826672286449, val loss: 0.030076961591154996\n",
      "Epoch 13, train loss: 0.0903645628072335, val loss: 0.02301222408320481\n",
      "Epoch 14, train loss: 0.0974509749507065, val loss: 0.023310933377669082\n",
      "Epoch 15, train loss: 0.08706454554031275, val loss: 0.020375119662169122\n",
      "Epoch 16, train loss: 0.09068782861860404, val loss: 0.0148336238506839\n",
      "Epoch 17, train loss: 0.09025842825825951, val loss: 0.022602471656094112\n",
      "Epoch 18, train loss: 0.0801367625982332, val loss: 0.01772248422511278\n",
      "Epoch 19, train loss: 0.0704178104476775, val loss: 0.01496895775969332\n",
      "Epoch 20, train loss: 0.07623211660642021, val loss: 0.011022426483952371\n",
      "Epoch 21, train loss: 0.07103379702423673, val loss: 0.016027334813556723\n",
      "Epoch 22, train loss: 0.07654396517941187, val loss: 0.010539096138553064\n",
      "Epoch 23, train loss: 0.06605136673727245, val loss: 0.009522781586116146\n",
      "Epoch 24, train loss: 0.06287095052150965, val loss: 0.010336933348298771\n",
      "Epoch 25, train loss: 0.06489731117715239, val loss: 0.01077575625737047\n",
      "Epoch 26, train loss: 0.08421870239140292, val loss: 0.09258474333535774\n",
      "Epoch 27, train loss: 0.06309631157843515, val loss: 0.036775897971571846\n",
      "Epoch 28, train loss: 0.06121663056600028, val loss: 0.02261693359961261\n",
      "Epoch 29, train loss: 0.05367571382546692, val loss: 0.015668172441484572\n",
      "Epoch 30, train loss: 0.057585269846090234, val loss: 0.027108369596135162\n",
      "Epoch 31, train loss: 0.060971483365178, val loss: 0.02675755198668091\n",
      "Epoch 32, train loss: 0.0483498989342213, val loss: 0.014269964603098581\n",
      "Epoch 33, train loss: 0.05042940740502513, val loss: 0.02368942908175514\n",
      "Epoch 34, train loss: 0.05175415267469787, val loss: 0.024034659597097798\n",
      "Epoch 35, train loss: 0.04891908017942304, val loss: 0.024568570703730287\n",
      "Epoch 36, train loss: 0.050689756703414905, val loss: 0.02838414781313879\n",
      "Epoch 37, train loss: 0.04954300060446018, val loss: 0.02860694368280961\n",
      "Epoch 38, train loss: 0.04550376417493308, val loss: 0.014113788556642248\n",
      "Epoch 39, train loss: 0.04190863746046421, val loss: 0.01042875814378289\n",
      "Epoch 40, train loss: 0.04195546348608172, val loss: 0.016770195548441037\n",
      "Epoch 41, train loss: 0.043250429711323334, val loss: 0.015142800630896732\n",
      "Epoch 42, train loss: 0.04480319357114475, val loss: 0.019954369068834826\n",
      "Epoch 43, train loss: 0.04071683325196942, val loss: 0.020266196925095917\n",
      "Epoch 44, train loss: 0.04114560263616184, val loss: 0.028549246269047965\n",
      "Epoch 45, train loss: 0.042032355042532006, val loss: 0.0333328549788669\n",
      "Epoch 46, train loss: 0.04243163155882161, val loss: 0.02630982772943218\n",
      "Epoch 47, train loss: 0.042472050917697506, val loss: 0.018047327296324724\n",
      "Epoch 48, train loss: 0.04169111880363124, val loss: 0.01216721643199622\n",
      "Epoch 49, train loss: 0.04355231898375387, val loss: 0.018908419068686594\n",
      "Epoch 50, train loss: 0.043935071470103546, val loss: 0.019059226808541795\n",
      "Epoch 51, train loss: 0.03926201000080956, val loss: 0.02339059267005188\n",
      "Epoch 52, train loss: 0.040943994246409626, val loss: 0.02068287093692668\n",
      "Epoch 53, train loss: 0.03843129752288952, val loss: 0.009075648400700147\n",
      "Epoch 54, train loss: 0.04146792772064289, val loss: 0.018589070224152238\n",
      "Epoch 55, train loss: 0.03720181935315295, val loss: 0.0339841143348381\n",
      "Epoch 56, train loss: 0.040648813074253755, val loss: 0.019727110965183838\n",
      "Epoch 57, train loss: 0.04199519977348106, val loss: 0.015182042472374365\n",
      "Epoch 58, train loss: 0.036842240664215806, val loss: 0.011271846103976286\n",
      "Epoch 59, train loss: 0.03682123617672615, val loss: 0.022570590838099366\n",
      "Epoch 60, train loss: 0.03917968729289565, val loss: 0.027074171930668373\n",
      "Epoch 61, train loss: 0.03884252137717343, val loss: 0.018822837072829154\n",
      "Epoch 62, train loss: 0.03910302842066536, val loss: 0.02175124362921612\n",
      "Epoch 63, train loss: 0.03919867678652679, val loss: 0.024756032388535566\n",
      "Epoch 64, train loss: 0.03801811254418147, val loss: 0.025328915903641887\n",
      "Epoch 65, train loss: 0.03854284450834042, val loss: 0.018164432384336952\n",
      "Epoch 66, train loss: 0.03906322279740704, val loss: 0.022299798756969667\n",
      "Epoch 67, train loss: 0.035406370288002864, val loss: 0.011886171617227185\n",
      "Epoch 68, train loss: 0.03415551348768134, val loss: 0.013696806576731165\n",
      "Epoch 69, train loss: 0.034972190196324526, val loss: 0.011286208945982841\n",
      "Epoch 70, train loss: 0.03657074317113042, val loss: 0.02486922818576097\n",
      "Epoch 71, train loss: 0.037370564594823984, val loss: 0.02165502655444631\n",
      "Epoch 72, train loss: 0.04283438961513654, val loss: 0.012193558234257044\n",
      "Epoch 73, train loss: 0.037521883191530624, val loss: 0.026062571054875232\n",
      "Epoch 74, train loss: 0.03944781105420544, val loss: 0.018532340429186767\n",
      "Epoch 75, train loss: 0.038244960456746045, val loss: 0.02174874184666966\n",
      "Epoch 76, train loss: 0.03495006412233633, val loss: 0.018550979511447248\n",
      "Epoch 77, train loss: 0.04317056266863369, val loss: 0.0315644772228338\n",
      "Epoch 78, train loss: 0.04123292621684821, val loss: 0.024196915779612027\n",
      "Epoch 79, train loss: 0.03403967065937558, val loss: 0.03434835775619029\n",
      "Epoch 80, train loss: 0.03864017754650149, val loss: 0.029289907735855034\n",
      "Epoch 81, train loss: 0.03351347762120843, val loss: 0.021565376644850726\n",
      "Epoch 82, train loss: 0.03627492572220087, val loss: 0.023590884334078722\n",
      "Epoch 83, train loss: 0.04141654231938, val loss: 0.025253433914365492\n",
      "Epoch 84, train loss: 0.031263303325785634, val loss: 0.01979556823963482\n",
      "Epoch 85, train loss: 0.03861423486578099, val loss: 0.013929188438637271\n",
      "Epoch 86, train loss: 0.033946326199128976, val loss: 0.015410676235446504\n",
      "Epoch 87, train loss: 0.03392860978514882, val loss: 0.021981559555663752\n",
      "Epoch 88, train loss: 0.038112971601391404, val loss: 0.02140017477409749\n",
      "Epoch 89, train loss: 0.03768507551854745, val loss: 0.014965240816095234\n",
      "Epoch 90, train loss: 0.0316557818232019, val loss: 0.02885339992987129\n",
      "Epoch 91, train loss: 0.03361895729121931, val loss: 0.019692139133252674\n",
      "Epoch 92, train loss: 0.04150518116505452, val loss: 0.022747095400999943\n",
      "Epoch 93, train loss: 0.03470796252170091, val loss: 0.029044164118016958\n",
      "Epoch 94, train loss: 0.03561080743216482, val loss: 0.029166588664552632\n",
      "Epoch 95, train loss: 0.039044386765986025, val loss: 0.022424268711614893\n",
      "Epoch 96, train loss: 0.03597978485485971, val loss: 0.021970334780843693\n",
      "Epoch 97, train loss: 0.035324704638380944, val loss: 0.020735093710701383\n",
      "Epoch 98, train loss: 0.0333674292759442, val loss: 0.02443844973886906\n",
      "Epoch 99, train loss: 0.036715090506364484, val loss: 0.018238310411187043\n"
     ]
    }
   ],
   "source": [
    "solar_1h_model, losses_train_solar_1h, losses_val_solar_1h = train_model(\n",
    "    model=solar_1h_model,\n",
    "    train_loader=dataloader_solar,\n",
    "    val_loader=dataloader_solar_val,\n",
    "    criterion=criterion,\n",
    "    optimizer=optimizer,\n",
    "    num_epochs=N_EPOCHS,\n",
    "    apply_gradient_clipping=True,\n",
    "    grad_clip_param=grad_clip_param,\n",
    "    data_type='solar',\n",
    "    forecast_horizon=1\n",
    ")"
   ]
  },
  {
   "cell_type": "code",
   "execution_count": 22,
   "metadata": {},
   "outputs": [],
   "source": [
    "torch.save(solar_1h_model.state_dict(), 'total_solar_1h_model.pth')"
   ]
  },
  {
   "cell_type": "code",
   "execution_count": 23,
   "metadata": {},
   "outputs": [
    {
     "data": {
      "image/png": "[encoded data removed]",
      "text/plain": [
       "<Figure size 640x480 with 1 Axes>"
      ]
     },
     "metadata": {},
     "output_type": "display_data"
    }
   ],
   "source": [
    "plt.plot(losses_train_solar_1h, label='train')\n",
    "plt.plot(losses_val_solar_1h, label='val')\n",
    "plt.legend()\n",
    "plt.xlabel('Epoch')\n",
    "plt.ylabel('RSME')\n",
    "plt.savefig('loss_solar_1h_total.png')\n",
    "plt.show()\n"
   ]
  },
  {
   "cell_type": "code",
   "execution_count": 16,
   "metadata": {},
   "outputs": [],
   "source": [
    "def move_sliding_window_2(data, window_size, inputs_cols_indices, label_col_index, forecast_horizon=24):\n",
    "    \"\"\"\n",
    "    data: numpy array including data\n",
    "    window_size: size of window\n",
    "    inputs_cols_indices: col indices to include\n",
    "    label_col_index: index of the label column in data\n",
    "    forecast_horizon: number of time steps ahead to predict\n",
    "    \"\"\"\n",
    "\n",
    "    # Calculate the number of instances based on the available data minus the window size and forecast horizon\n",
    "    num_instances = len(data) - window_size - forecast_horizon + 1\n",
    "\n",
    "    # (# instances created by movement, seq_len (timestamps), # features (input_len))\n",
    "    inputs = np.zeros((num_instances, window_size, len(inputs_cols_indices)))\n",
    "    labels = np.zeros(num_instances)\n",
    "\n",
    "    for i in range(num_instances):\n",
    "        inputs[i] = data[i:i + window_size, inputs_cols_indices]\n",
    "        labels[i] = data[i + window_size + forecast_horizon - 1, label_col_index]  # Label is forecast_horizon steps ahead\n",
    "    inputs = inputs.reshape(-1, window_size, len(inputs_cols_indices))\n",
    "    labels = labels.reshape(-1, 1)\n",
    "    print(inputs.shape, labels.shape)\n",
    "\n",
    "    return inputs, labels"
   ]
  },
  {
   "cell_type": "code",
   "execution_count": 17,
   "metadata": {},
   "outputs": [
    {
     "name": "stdout",
     "output_type": "stream",
     "text": [
      "(17449, 72, 11) (17449, 1)\n",
      "(8665, 72, 11) (8665, 1)\n"
     ]
    }
   ],
   "source": [
    "solar_24h_X, solar_24h_y = move_sliding_window_2(solar_data, 72, range(11), 0, forecast_horizon=24)\n",
    "solar_24h_X_val, solar_24h_y_val = move_sliding_window_2(solar_data_val, 72, range(11), 0, forecast_horizon=24)\n",
    "solar_24h_dataset = SolarDataset(solar_24h_X, solar_24h_y)\n",
    "solar_24_dataset_val = SolarDataset(solar_24h_X_val, solar_24h_y_val)\n",
    "dataloader_solar_24h = DataLoader(solar_24h_dataset, batch_size=32, shuffle=False, drop_last=True)\n",
    "dataloader_solar_val_24h = DataLoader(solar_24_dataset_val, batch_size=32, shuffle=False, drop_last=True)\n"
   ]
  },
  {
   "cell_type": "code",
   "execution_count": 24,
   "metadata": {},
   "outputs": [],
   "source": [
    "#est parameters: {'batch_size': 64, 'iterator_train__shuffle': False, 'max_epochs': 80, 'module__drop_prob': 0.5, 'module__hidden_dim': 16, 'module__n_layers': 1, 'optimizer__lr': 0.001, 'optimizer__weight_decay': 0.001}\n",
    "BATCH_SIZE = 64\n",
    "EPOCHS = 100\n",
    "HIDDEN_SIZE = 64\n",
    "NUM_LAYERS = 2\n",
    "lr = 0.001\n",
    "weight_decay = 0.001\n",
    "DROP_PROB = 0.5\n",
    "grad_clip_param = 2\n",
    "\n",
    "model_solar_24h = GRUNet(input_dim=INPUT_SIZE, hidden_dim=HIDDEN_SIZE, output_dim=OUTPUT_SIZE, n_layers=NUM_LAYERS, drop_prob=DROP_PROB).to(device)\n",
    "optimizer = torch.optim.Adam(model_solar_24h.parameters(), lr=lr, weight_decay=0.0001)"
   ]
  },
  {
   "cell_type": "code",
   "execution_count": 25,
   "metadata": {},
   "outputs": [
    {
     "name": "stdout",
     "output_type": "stream",
     "text": [
      "Epoch 0, train loss: 0.24092636391383793, val loss: 0.4008714270081125\n",
      "Epoch 1, train loss: 0.1982864451637372, val loss: 0.38271704651921973\n",
      "Epoch 2, train loss: 0.19231215953963612, val loss: 0.3459941136422222\n",
      "Epoch 3, train loss: 0.1938078647838273, val loss: 0.3746284920285419\n",
      "Epoch 4, train loss: 0.18579119774213898, val loss: 0.33342480889254217\n",
      "Epoch 5, train loss: 0.19386073495816747, val loss: 0.3164847103556288\n",
      "Epoch 6, train loss: 0.18773772657396048, val loss: 0.37036845783586614\n",
      "Epoch 7, train loss: 0.18914172017793043, val loss: 0.2958574300920763\n",
      "Epoch 8, train loss: 0.18869244353760273, val loss: 0.32534698060782696\n",
      "Epoch 9, train loss: 0.18109710744214713, val loss: 0.2591339376267839\n",
      "Epoch 10, train loss: 0.18633302281858452, val loss: 0.27405367624823057\n",
      "Epoch 11, train loss: 0.19097109881631277, val loss: 0.2832035665902637\n",
      "Epoch 12, train loss: 0.17967051870847514, val loss: 0.2459177729607661\n",
      "Epoch 13, train loss: 0.195509578677219, val loss: 0.2711541270906175\n",
      "Epoch 14, train loss: 0.18016125774438227, val loss: 0.2503003337394653\n",
      "Epoch 15, train loss: 0.17777524399442957, val loss: 0.2363621615923303\n",
      "Epoch 16, train loss: 0.18577383766890665, val loss: 0.20353284034947003\n",
      "Epoch 17, train loss: 0.19020967321863416, val loss: 0.25505562614513716\n",
      "Epoch 18, train loss: 0.1788522186338765, val loss: 0.2393465463737677\n",
      "Epoch 19, train loss: 0.1719775716406763, val loss: 0.2116740592492365\n",
      "Epoch 20, train loss: 0.18207556367809072, val loss: 0.22841880594604408\n",
      "Epoch 21, train loss: 0.19011021376408022, val loss: 0.25064598160205165\n",
      "Epoch 22, train loss: 0.19048421839508442, val loss: 0.18177322475368984\n",
      "Epoch 23, train loss: 0.17223537614176032, val loss: 0.17936545072006993\n",
      "Epoch 24, train loss: 0.176976186970095, val loss: 0.1914491643339042\n",
      "Epoch 25, train loss: 0.17611089741144706, val loss: 0.17971921400921592\n",
      "Epoch 26, train loss: 0.17611491470640406, val loss: 0.22168848192215793\n",
      "Epoch 27, train loss: 0.17317128948388844, val loss: 0.1826172949937043\n",
      "Epoch 28, train loss: 0.17192850379153676, val loss: 0.2618578484536556\n",
      "Epoch 29, train loss: 0.16942545771769701, val loss: 0.1591111565752524\n",
      "Epoch 30, train loss: 0.16950300046405115, val loss: 0.18377777631523914\n",
      "Epoch 31, train loss: 0.1714220092657509, val loss: 0.22480996372178197\n",
      "Epoch 32, train loss: 0.17658587810369805, val loss: 0.1807325727550455\n",
      "Epoch 33, train loss: 0.15739269531032907, val loss: 0.25666025640729695\n",
      "Epoch 34, train loss: 0.1684193239572945, val loss: 0.17214999180955434\n",
      "Epoch 35, train loss: 0.15486351728029207, val loss: 0.17915016637190193\n",
      "Epoch 36, train loss: 0.15517790267637016, val loss: 0.1825261162161176\n",
      "Epoch 37, train loss: 0.14252616270112062, val loss: 0.1803000639152338\n",
      "Epoch 38, train loss: 0.15055476377521634, val loss: 0.16435284048919263\n",
      "Epoch 39, train loss: 0.14754030232685147, val loss: 0.1454984309262525\n",
      "Epoch 40, train loss: 0.15151476917463705, val loss: 0.16086770774951825\n",
      "Epoch 41, train loss: 0.15031759472341713, val loss: 0.15108179943398917\n",
      "Epoch 42, train loss: 0.16229470871183851, val loss: 0.16765466141271948\n",
      "Epoch 43, train loss: 0.1566560810038803, val loss: 0.09722907551662906\n",
      "Epoch 44, train loss: 0.15391166623374192, val loss: 0.1103710300523542\n",
      "Epoch 45, train loss: 0.1552575658408737, val loss: 0.13802643949236004\n",
      "Epoch 46, train loss: 0.16214966027390793, val loss: 0.10143295689852459\n",
      "Epoch 47, train loss: 0.1501961038319753, val loss: 0.12296077710860927\n",
      "Epoch 48, train loss: 0.158195790257134, val loss: 0.17692880901622293\n",
      "Epoch 49, train loss: 0.152922111705219, val loss: 0.13425341276473504\n",
      "Epoch 50, train loss: 0.15755036288718566, val loss: 0.09809522963817775\n",
      "Epoch 51, train loss: 0.1549535626391752, val loss: 0.16197032240700165\n",
      "Epoch 52, train loss: 0.14393178306759224, val loss: 0.09750935251024741\n",
      "Epoch 53, train loss: 0.14851099921031555, val loss: 0.1286409626153289\n",
      "Epoch 54, train loss: 0.1578196350399644, val loss: 0.13923388666557407\n",
      "Epoch 55, train loss: 0.1737235363470305, val loss: 0.19160657037206907\n",
      "Epoch 56, train loss: 0.15392958240053795, val loss: 0.13460887045377468\n",
      "Epoch 57, train loss: 0.15444744523751353, val loss: 0.12552726507632608\n",
      "Epoch 58, train loss: 0.1448749963194132, val loss: 0.1572818213959787\n",
      "Epoch 59, train loss: 0.1453050275974044, val loss: 0.1351649568473847\n",
      "Epoch 60, train loss: 0.15486254019474766, val loss: 0.09879921515475197\n",
      "Epoch 61, train loss: 0.1402756086969321, val loss: 0.09177603681187234\n",
      "Epoch 62, train loss: 0.13924717240958312, val loss: 0.1294509854339628\n",
      "Epoch 63, train loss: 0.1424615004604016, val loss: 0.09527702829717008\n",
      "Epoch 64, train loss: 0.14233554958135164, val loss: 0.13630555449518497\n",
      "Epoch 65, train loss: 0.1532512142827068, val loss: 0.12306053193707259\n",
      "Epoch 66, train loss: 0.14204991742319198, val loss: 0.142200531430771\n",
      "Epoch 67, train loss: 0.14486344560228903, val loss: 0.10453239769849461\n",
      "Epoch 68, train loss: 0.14879132365090175, val loss: 0.15102676244515115\n",
      "Epoch 69, train loss: 0.15153407232852978, val loss: 0.1244236978194008\n",
      "Epoch 70, train loss: 0.15311476987692604, val loss: 0.11674995377333187\n",
      "Epoch 71, train loss: 0.14989565774764216, val loss: 0.19106265488280094\n",
      "Epoch 72, train loss: 0.14706063645148496, val loss: 0.14112877797899137\n",
      "Epoch 73, train loss: 0.1406574274045885, val loss: 0.14854504723194556\n",
      "Epoch 74, train loss: 0.14438418764791905, val loss: 0.09193120486436075\n",
      "Epoch 75, train loss: 0.15064137394821972, val loss: 0.10235458963428823\n",
      "Epoch 76, train loss: 0.146600298894518, val loss: 0.11512615507798964\n",
      "Epoch 77, train loss: 0.14651212811538386, val loss: 0.10690621174230559\n",
      "Epoch 78, train loss: 0.1429625096141335, val loss: 0.07998948883339634\n",
      "Epoch 79, train loss: 0.14688982076669505, val loss: 0.12476476811064424\n",
      "Epoch 80, train loss: 0.14030580524902006, val loss: 0.0997685536232085\n",
      "Epoch 81, train loss: 0.1410477604887901, val loss: 0.14964640560420878\n",
      "Epoch 82, train loss: 0.13895904411553242, val loss: 0.1076242627872152\n",
      "Epoch 83, train loss: 0.14035441393562414, val loss: 0.09893021002461426\n",
      "Epoch 84, train loss: 0.1359080562350947, val loss: 0.09968905805624133\n",
      "Epoch 85, train loss: 0.1427711557631099, val loss: 0.08811253196922567\n",
      "Epoch 86, train loss: 0.14776069168001413, val loss: 0.10723091467974613\n",
      "Epoch 87, train loss: 0.14674195687824843, val loss: 0.10212350739804808\n",
      "Epoch 88, train loss: 0.14804390462269204, val loss: 0.10885572621324778\n",
      "Epoch 89, train loss: 0.14371035633728318, val loss: 0.11242557695699765\n",
      "Epoch 90, train loss: 0.13613342671321893, val loss: 0.09347582190880699\n",
      "Epoch 91, train loss: 0.15347296757401402, val loss: 0.1358020031490553\n",
      "Epoch 92, train loss: 0.14291787795175653, val loss: 0.10797093580371843\n",
      "Epoch 93, train loss: 0.14666089438107036, val loss: 0.09525884961578952\n",
      "Epoch 94, train loss: 0.14688002932645858, val loss: 0.09621662141588684\n",
      "Epoch 95, train loss: 0.14014591770332066, val loss: 0.12230014428803568\n",
      "Epoch 96, train loss: 0.14295546867705267, val loss: 0.1174076390330878\n",
      "Epoch 97, train loss: 0.1396058311378327, val loss: 0.11141699350975816\n",
      "Epoch 98, train loss: 0.145958819812796, val loss: 0.11594025917646057\n",
      "Epoch 99, train loss: 0.13929036575104664, val loss: 0.10651053031688207\n"
     ]
    }
   ],
   "source": [
    "model_solar_24h, losses_train_solar_24h, losses_val_solar_24h = train_model(model_solar_24h, \n",
    "                                                                            dataloader_solar_24h, \n",
    "                                                                            dataloader_solar_val_24h, \n",
    "                                                                            criterion, optimizer, \n",
    "                                                                            num_epochs=EPOCHS, \n",
    "                                                                            apply_gradient_clipping=True, \n",
    "                                                                            grad_clip_param=grad_clip_param,\n",
    "                                                                            model_type='solar',\n",
    "                                                                            forecast_horizon=24)"
   ]
  },
  {
   "cell_type": "code",
   "execution_count": 26,
   "metadata": {},
   "outputs": [
    {
     "data": {
      "text/plain": [
       "Text(0, 0.5, 'RSME')"
      ]
     },
     "execution_count": 26,
     "metadata": {},
     "output_type": "execute_result"
    },
    {
     "data": {
      "image/png": "[encoded data removed]",
      "text/plain": [
       "<Figure size 640x480 with 1 Axes>"
      ]
     },
     "metadata": {},
     "output_type": "display_data"
    }
   ],
   "source": [
    "plt.plot(losses_train_solar_24h, label='train')\n",
    "plt.plot(losses_val_solar_24h, label='val')\n",
    "plt.legend()\n",
    "plt.xlabel('Epoch')\n",
    "plt.ylabel('RSME')\n"
   ]
  }
 ],
 "metadata": {
  "kernelspec": {
   "display_name": "Python 3",
   "language": "python",
   "name": "python3"
  },
  "language_info": {
   "codemirror_mode": {
    "name": "ipython",
    "version": 3
   },
   "file_extension": ".py",
   "mimetype": "text/x-python",
   "name": "python",
   "nbconvert_exporter": "python",
   "pygments_lexer": "ipython3",
   "version": "3.10.4"
  }
 },
 "nbformat": 4,
 "nbformat_minor": 2
}

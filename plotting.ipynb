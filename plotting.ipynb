{
 "cells": [
  {
   "cell_type": "code",
   "execution_count": 1,
   "metadata": {},
   "outputs": [],
   "source": [
    "import numpy as np\n",
    "import matplotlib.pyplot as plt\n",
    "import torch\n",
    "import torch.nn as nn\n",
    "import os"
   ]
  },
  {
   "cell_type": "code",
   "execution_count": null,
   "metadata": {},
   "outputs": [],
   "source": [
    "# invert normalization of data to range [-1, 1]\n",
    "def invert_minmax_scaling(data, min_val, max_val):\n",
    "    return (data + 1) * (max_val - min_val) / 2 + min_val"
   ]
  },
  {
   "cell_type": "code",
   "execution_count": 4,
   "metadata": {},
   "outputs": [],
   "source": [
    "def plot_day(output_1h, output_24h, target, subject): \n",
    "    hours_per_day = 24\n",
    "\n",
    "    # Adjust start hour for plotting from hour 24 to align all datasets\n",
    "    # Reducing the maximum index calculation by 24 hours to accommodate the offset for synced data\n",
    "    max_day_index = len(output_24h) - hours_per_day  # Use outputs_solar_24 length to define the day's limits\n",
    "\n",
    "    # Select a random start hour from 24 to the maximum possible index that still allows for a full day of data\n",
    "    start_hour = np.random.randint(24, max_day_index + 1)\n",
    "\n",
    "    # Calculate the corresponding day number (for title purposes)\n",
    "    day_number = (start_hour - 24) // hours_per_day + 1\n",
    "\n",
    "    # Plot actual vs. predicted solar energy outputs for the selected day, starting from the 24th hour\n",
    "    plt.figure(figsize=(12, 6))\n",
    "    plt.plot(range(hours_per_day), target[start_hour:start_hour + hours_per_day], \"-o\", color=\"b\", label=\"Actual\", markersize=4)\n",
    "    plt.plot(range(hours_per_day), output_1h[start_hour:start_hour + hours_per_day], \"-o\", color=\"g\", label=\"Predictions (1h ahead)\", markersize=4)\n",
    "    plt.plot(range(hours_per_day), output_24h[start_hour - 24:start_hour - 24 + hours_per_day], \"-o\", color=\"purple\", label=\"Predictions (24hr ahead)\", markersize=4)\n",
    "\n",
    "    plt.legend()\n",
    "    plt.title(f\"{subject} Energy Supply: Day {day_number} of 2022\")\n",
    "    plt.xlabel(\"Hour of the Day\")\n",
    "    plt.ylabel(f\"{subject} Supply\")\n",
    "    plt.grid(True)\n",
    "    plt.savefig(f\"plots/testing/{subject}_energy_supply_day_{day_number}.png\")\n",
    "    plt.show()"
   ]
  },
  {
   "cell_type": "code",
   "execution_count": null,
   "metadata": {},
   "outputs": [],
   "source": [
    "def plot_week(output_1h, output_24h, target, subject, path):\n",
    "    # Number of hours per week\n",
    "    hours_per_week = 7 * 24\n",
    "\n",
    "    # Adjust start hour for plotting from hour 24 to align all datasets\n",
    "    # Reducing the maximum index calculation by 24 hours to accommodate the offset for synced data\n",
    "    max_week_index = len(output_24h) - hours_per_week  # Use outputs_solar_24 length to define the week's limits\n",
    "\n",
    "    # Select a random start hour from 24 to the maximum possible index that still allows for a full week of data\n",
    "    start_hour = np.random.randint(24, max_week_index + 1)\n",
    "\n",
    "    # Calculate the corresponding week number (for title purposes)\n",
    "    week_number = (start_hour - 24) // hours_per_week + 1\n",
    "\n",
    "    # Plot actual vs. predicted solar energy outputs for the selected week, starting from the 24th hour\n",
    "    plt.figure(figsize=(12, 6))\n",
    "    plt.plot(range(hours_per_week), target[start_hour:start_hour + hours_per_week], \"-o\", color=\"b\", label=\"Actual\", markersize=2)\n",
    "    plt.plot(range(hours_per_week), output_1h[start_hour:start_hour + hours_per_week], \"-o\", color=\"g\", label=\"Predictions (1h ahead)\", markersize=2)\n",
    "    plt.plot(range(hours_per_week), output_24h[start_hour - 24:start_hour - 24 + hours_per_week], \"-o\", color=\"purple\", label=\"Predictions (24h ahead)\", markersize=2)\n",
    "\n",
    "    plt.legend()\n",
    "    plt.title(f\"{subject} Energy Supply: Week {week_number} of 2022\")\n",
    "    plt.xlabel(\"Hour of the Week\")\n",
    "    plt.ylabel(f\"{subject} Supply\")\n",
    "    plt.grid(True)\n",
    "    plt.savefig(f\"plots/testing/{subject}_energy_supply_week_{week_number}_window.png\")\n",
    "    plt.show()"
   ]
  },
  {
   "cell_type": "code",
   "execution_count": null,
   "metadata": {},
   "outputs": [],
   "source": []
  },
  {
   "cell_type": "code",
   "execution_count": null,
   "metadata": {},
   "outputs": [],
   "source": []
  }
 ],
 "metadata": {
  "kernelspec": {
   "display_name": "Python 3",
   "language": "python",
   "name": "python3"
  },
  "language_info": {
   "codemirror_mode": {
    "name": "ipython",
    "version": 3
   },
   "file_extension": ".py",
   "mimetype": "text/x-python",
   "name": "python",
   "nbconvert_exporter": "python",
   "pygments_lexer": "ipython3",
   "version": "3.11.8"
  }
 },
 "nbformat": 4,
 "nbformat_minor": 2
}

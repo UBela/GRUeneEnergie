{
 "cells": [
  {
   "cell_type": "code",
   "execution_count": 11,
   "metadata": {},
   "outputs": [],
   "source": [
    "import numpy as np\n",
    "import matplotlib.pyplot as plt\n",
    "import torch\n",
    "import os \n",
    "import sys\n",
    "from torch.utils.data import Dataset, DataLoader\n",
    "import pandas as pd"
   ]
  },
  {
   "cell_type": "code",
   "execution_count": null,
   "metadata": {},
   "outputs": [],
   "source": [
    "#MAYBE INCLUDE day of the week, month, day of the year as input aswell"
   ]
  },
  {
   "cell_type": "code",
   "execution_count": 29,
   "metadata": {},
   "outputs": [],
   "source": [
    "#TODO make supervised learning dataset from csv files\n",
    "#TODO build dataloader\n",
    "solar_data = np.genfromtxt('data\\\\training_data\\\\train_solar.csv', delimiter=',', skip_header=1)\n",
    "wind_data = np.genfromtxt('data\\\\training_data\\\\train_wind.csv', delimiter=',',skip_header=1)"
   ]
  },
  {
   "cell_type": "code",
   "execution_count": 37,
   "metadata": {},
   "outputs": [
    {
     "data": {
      "text/plain": [
       "(17544, 6)"
      ]
     },
     "execution_count": 37,
     "metadata": {},
     "output_type": "execute_result"
    }
   ],
   "source": [
    "solar_data.shape\n",
    "test_data = np.random.rand(6, 6)\n"
   ]
  },
  {
   "cell_type": "code",
   "execution_count": 36,
   "metadata": {},
   "outputs": [],
   "source": [
    "N = solar_data.shape[0]\n",
    "l = 5\n",
    "n = 1\n",
    "m = 1\n",
    "k = N - (l + m + n)\n",
    "\n"
   ]
  },
  {
   "cell_type": "code",
   "execution_count": 49,
   "metadata": {},
   "outputs": [],
   "source": [
    "def move_sliding_window(data, window_size, inputs_cols_indices, label_col_index):\n",
    "    \"\"\"\n",
    "    data: numpy array including data\n",
    "    window_size: size of window\n",
    "    inputs_cols_indices: col indices to include\n",
    "    \"\"\"\n",
    "\n",
    "    # (# instances created by movement, seq_len (timestamps), # features (input_len))\n",
    "    inputs = np.zeros((len(data) - window_size, window_size, len(inputs_cols_indices)))\n",
    "    labels = np.zeros(len(data) - window_size)\n",
    "\n",
    "    for i in range(window_size, len(data)):\n",
    "        inputs[i - window_size] = data[i - window_size : i, inputs_cols_indices]\n",
    "        labels[i - window_size] = data[i, label_col_index]\n",
    "    inputs = inputs.reshape(-1, window_size, len(inputs_cols_indices))\n",
    "    labels = labels.reshape(-1, 1)\n",
    "    print(inputs.shape, labels.shape)\n",
    "\n",
    "    return inputs, labels"
   ]
  },
  {
   "cell_type": "code",
   "execution_count": 48,
   "metadata": {},
   "outputs": [
    {
     "name": "stdout",
     "output_type": "stream",
     "text": [
      "[[0.93305667 0.26788469 0.43388759 0.25778974 0.55415499 0.69550187]\n",
      " [0.57719415 0.25277559 0.78328127 0.17285781 0.56988906 0.93663889]\n",
      " [0.91785678 0.50335685 0.01618584 0.36799884 0.88730611 0.47364465]\n",
      " [0.23141142 0.08473108 0.30973464 0.95463363 0.7272642  0.01182994]\n",
      " [0.6238014  0.55598621 0.43403017 0.39748669 0.61125417 0.58531857]\n",
      " [0.72361274 0.51563549 0.89944318 0.95362713 0.15512222 0.60894126]\n",
      " [0.9359016  0.95937447 0.47482583 0.91159402 0.09077589 0.80830229]]\n",
      "[[0.93305667 0.26788469 0.43388759 0.25778974 0.55415499 0.69550187]\n",
      " [0.57719415 0.25277559 0.78328127 0.17285781 0.56988906 0.93663889]\n",
      " [0.91785678 0.50335685 0.01618584 0.36799884 0.88730611 0.47364465]\n",
      " [0.23141142 0.08473108 0.30973464 0.95463363 0.7272642  0.01182994]\n",
      " [0.6238014  0.55598621 0.43403017 0.39748669 0.61125417 0.58531857]]\n",
      "[0.72361274]\n"
     ]
    },
    {
     "name": "stderr",
     "output_type": "stream",
     "text": [
      "C:\\Users\\belau\\AppData\\Local\\Temp\\ipykernel_1296\\1056773489.py:2: VisibleDeprecationWarning: Creating an ndarray from ragged nested sequences (which is a list-or-tuple of lists-or-tuples-or ndarrays with different lengths or shapes) is deprecated. If you meant to do this, you must specify 'dtype=object' when creating the ndarray.\n",
      "  inputs_test = np.array([test_data[i:i+l] for i in range(k)])\n",
      "C:\\Users\\belau\\AppData\\Local\\Temp\\ipykernel_1296\\1056773489.py:3: VisibleDeprecationWarning: Creating an ndarray from ragged nested sequences (which is a list-or-tuple of lists-or-tuples-or ndarrays with different lengths or shapes) is deprecated. If you meant to do this, you must specify 'dtype=object' when creating the ndarray.\n",
      "  outputs_test = np.array([test_data[i+l:i+l+m,0] for i in range(k)])\n"
     ]
    }
   ],
   "source": [
    "print(test_data)\n",
    "inputs_test = np.array([test_data[i:i+l] for i in range(k)])\n",
    "outputs_test = np.array([test_data[i+l:i+l+m,0] for i in range(k)])\n",
    "print(inputs_test[0])\n",
    "print(outputs_test[0])"
   ]
  },
  {
   "cell_type": "code",
   "execution_count": 52,
   "metadata": {},
   "outputs": [
    {
     "name": "stdout",
     "output_type": "stream",
     "text": [
      "(2, 5, 6) (2, 1)\n",
      "[[0.93305667 0.26788469 0.43388759 0.25778974 0.55415499 0.69550187]\n",
      " [0.57719415 0.25277559 0.78328127 0.17285781 0.56988906 0.93663889]\n",
      " [0.91785678 0.50335685 0.01618584 0.36799884 0.88730611 0.47364465]\n",
      " [0.23141142 0.08473108 0.30973464 0.95463363 0.7272642  0.01182994]\n",
      " [0.6238014  0.55598621 0.43403017 0.39748669 0.61125417 0.58531857]]\n",
      "[0.72361274]\n"
     ]
    }
   ],
   "source": [
    "i, l = move_sliding_window(test_data, 5, range(6), 0)\n",
    "print(i[0])\n",
    "print(l[0])"
   ]
  },
  {
   "cell_type": "code",
   "execution_count": 45,
   "metadata": {},
   "outputs": [
    {
     "name": "stdout",
     "output_type": "stream",
     "text": [
      "torch.Size([17537, 5, 6])\n",
      "torch.Size([17537, 1])\n"
     ]
    }
   ],
   "source": [
    "inputs = torch.tensor([solar_data[i:i+l] for i in range(k)], dtype=torch.float32)\n",
    "#only need first column of data as output\n",
    "output = torch.tensor([solar_data[i+l+m:i+l+m+n,0] for i in range(k)],dtype=torch.float32)\n",
    "print(inputs.shape)\n",
    "print(output.shape)\n"
   ]
  },
  {
   "cell_type": "code",
   "execution_count": 46,
   "metadata": {},
   "outputs": [],
   "source": [
    "#create dataset\n",
    "class SolarDataset(Dataset):\n",
    "    def __init__(self, inputs, output):\n",
    "        self.inputs = inputs\n",
    "        self.output = output\n",
    "\n",
    "    def __len__(self):\n",
    "        return len(self.inputs)\n",
    "\n",
    "    def __getitem__(self, idx):\n",
    "        return self.inputs[idx], self.output[idx]\n",
    "\n",
    "solar_dataset = SolarDataset(inputs, output)\n",
    "dataloader = DataLoader(solar_dataset, batch_size=32, shuffle=False, drop_last=True)\n"
   ]
  },
  {
   "cell_type": "code",
   "execution_count": 47,
   "metadata": {},
   "outputs": [],
   "source": [
    "#save dataloader\n",
    "torch.save(dataloader, 'data/solar_dataloader.pth')"
   ]
  }
 ],
 "metadata": {
  "kernelspec": {
   "display_name": "Python 3",
   "language": "python",
   "name": "python3"
  },
  "language_info": {
   "codemirror_mode": {
    "name": "ipython",
    "version": 3
   },
   "file_extension": ".py",
   "mimetype": "text/x-python",
   "name": "python",
   "nbconvert_exporter": "python",
   "pygments_lexer": "ipython3",
   "version": "3.10.4"
  }
 },
 "nbformat": 4,
 "nbformat_minor": 2
}

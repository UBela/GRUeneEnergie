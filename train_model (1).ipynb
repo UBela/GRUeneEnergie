{
  "cells": [
    {
      "cell_type": "code",
      "execution_count": 1,
      "metadata": {
        "id": "KNPLQZWZySfb"
      },
      "outputs": [],
      "source": [
        "import numpy as np\n",
        "import matplotlib.pyplot as plt\n",
        "import torch\n",
        "from torch import nn\n",
        "import os\n",
        "import sys\n",
        "from torch.utils.data import Dataset, DataLoader\n",
        "import pandas as pd\n",
        "from collections import defaultdict\n"
      ]
    },
    {
      "cell_type": "code",
      "source": [
        "from google.colab import drive\n",
        "drive.mount('/content/drive')"
      ],
      "metadata": {
        "colab": {
          "base_uri": "https://localhost:8080/"
        },
        "id": "rkEZk3gdyZvh",
        "outputId": "df3fdeff-e9a4-486c-dae2-92642609e7cc"
      },
      "execution_count": 7,
      "outputs": [
        {
          "output_type": "stream",
          "name": "stdout",
          "text": [
            "Drive already mounted at /content/drive; to attempt to forcibly remount, call drive.mount(\"/content/drive\", force_remount=True).\n"
          ]
        }
      ]
    },
    {
      "cell_type": "code",
      "source": [
        "PATH = '/content/drive/MyDrive/solar_data'\n",
        "sys.path.insert(0, PATH)"
      ],
      "metadata": {
        "id": "aRthsNJ4yh2i"
      },
      "execution_count": 8,
      "outputs": []
    },
    {
      "cell_type": "code",
      "source": [
        "from GRU_model import GRUNet"
      ],
      "metadata": {
        "id": "FEwACLh4zPuH"
      },
      "execution_count": 9,
      "outputs": []
    },
    {
      "cell_type": "code",
      "execution_count": 10,
      "metadata": {
        "id": "JWZaYIknySfd"
      },
      "outputs": [],
      "source": [
        "WINDOW_SIZE = 25"
      ]
    },
    {
      "cell_type": "code",
      "execution_count": 11,
      "metadata": {
        "id": "pYwMc2SBySfd"
      },
      "outputs": [],
      "source": [
        "#TODO make supervised learning dataset from csv files\n",
        "#TODO build dataloader\n",
        "solar_data = np.genfromtxt(PATH + '/data/training_data/train_solar.csv', delimiter=',', skip_header=1)\n",
        "wind_data = np.genfromtxt(PATH + '/data/training_data/train_wind.csv', delimiter=',',skip_header=1)\n",
        "solar_data_val = np.genfromtxt(PATH + '/data/training_data/val_solar.csv', delimiter=',', skip_header=1)\n",
        "wind_data_val = np.genfromtxt(PATH + '/data/training_data/val_wind.csv', delimiter=',', skip_header=1)\n",
        "\n"
      ]
    },
    {
      "cell_type": "code",
      "execution_count": 12,
      "metadata": {
        "colab": {
          "base_uri": "https://localhost:8080/"
        },
        "id": "_rDyx6YiySfe",
        "outputId": "21a6a784-3cab-4af4-f536-33bbaca8496a"
      },
      "outputs": [
        {
          "output_type": "execute_result",
          "data": {
            "text/plain": [
              "((17544, 11), (17544, 11))"
            ]
          },
          "metadata": {},
          "execution_count": 12
        }
      ],
      "source": [
        "solar_data.shape, wind_data.shape"
      ]
    },
    {
      "cell_type": "code",
      "execution_count": 17,
      "metadata": {
        "id": "s7M3VtD4ySff"
      },
      "outputs": [],
      "source": [
        "def move_sliding_window(data, window_size, inputs_cols_indices, label_col_index, forecast_horizon=24):\n",
        "    \"\"\"\n",
        "    data: numpy array including data\n",
        "    window_size: size of window\n",
        "    inputs_cols_indices: col indices to include\n",
        "    label_col_index: index of the label column in data\n",
        "    forecast_horizon: number of time steps ahead to predict\n",
        "    \"\"\"\n",
        "\n",
        "    # Calculate the number of instances based on the available data minus the window size and forecast horizon\n",
        "    num_instances = len(data) - window_size - forecast_horizon + 1\n",
        "\n",
        "    # (# instances created by movement, seq_len (timestamps), # features (input_len))\n",
        "    inputs = np.zeros((num_instances, window_size, len(inputs_cols_indices)))\n",
        "    labels = np.zeros(num_instances)\n",
        "\n",
        "    for i in range(num_instances):\n",
        "        inputs[i] = data[i:i + window_size, inputs_cols_indices]\n",
        "        labels[i] = data[i + window_size + forecast_horizon - 1, label_col_index]  # Label is forecast_horizon steps ahead\n",
        "\n",
        "    inputs = inputs.reshape(-1, window_size, len(inputs_cols_indices))\n",
        "    labels = labels.reshape(-1, 1)\n",
        "\n",
        "    return inputs, labels"
      ]
    },
    {
      "cell_type": "code",
      "execution_count": 18,
      "metadata": {
        "id": "yvBSD8jgySfh"
      },
      "outputs": [],
      "source": [
        "#create dataset\n",
        "class SolarDataset(Dataset):\n",
        "    def __init__(self, inputs, output):\n",
        "        self.inputs = inputs\n",
        "        self.output = output\n",
        "\n",
        "    def __len__(self):\n",
        "        return len(self.inputs)\n",
        "\n",
        "    def __getitem__(self, idx):\n",
        "        return self.inputs[idx], self.output[idx]"
      ]
    },
    {
      "cell_type": "code",
      "execution_count": 20,
      "metadata": {
        "id": "ykT0ypqlySfj"
      },
      "outputs": [],
      "source": [
        "from GRU_model import GRUNet\n",
        "\n",
        "INPUT_SIZE = 11\n",
        "HIDDEN_SIZE = 16\n",
        "NUM_LAYERS = 2\n",
        "OUTPUT_SIZE = 1\n",
        "DROP_PROB = .5\n",
        "lr = 0.001"
      ]
    },
    {
      "cell_type": "code",
      "execution_count": 21,
      "metadata": {
        "colab": {
          "base_uri": "https://localhost:8080/"
        },
        "id": "xVUIdtJoySfj",
        "outputId": "e2c2b962-c27e-4ae5-dcf1-fde2bbf01f68"
      },
      "outputs": [
        {
          "output_type": "stream",
          "name": "stdout",
          "text": [
            "11 1\n"
          ]
        }
      ],
      "source": [
        "print(INPUT_SIZE, OUTPUT_SIZE)"
      ]
    },
    {
      "cell_type": "code",
      "execution_count": 22,
      "metadata": {
        "colab": {
          "base_uri": "https://localhost:8080/"
        },
        "id": "LOU_6rK8ySfk",
        "outputId": "fee7e1f0-dd93-47e6-dd17-f9df305c69d6"
      },
      "outputs": [
        {
          "output_type": "execute_result",
          "data": {
            "text/plain": [
              "GRUNet(\n",
              "  (gru): GRU(11, 16, num_layers=2, batch_first=True, dropout=0.5)\n",
              "  (fc): Linear(in_features=16, out_features=1, bias=True)\n",
              ")"
            ]
          },
          "metadata": {},
          "execution_count": 22
        }
      ],
      "source": [
        "\n",
        "device = torch.device(\"cuda\" if torch.cuda.is_available() else \"cpu\")\n",
        "model = GRUNet(input_dim=INPUT_SIZE, hidden_dim=HIDDEN_SIZE, output_dim=OUTPUT_SIZE, n_layers=NUM_LAYERS, drop_prob=DROP_PROB).to(device)\n",
        "model"
      ]
    },
    {
      "cell_type": "code",
      "execution_count": 23,
      "metadata": {
        "id": "RBDe8R0PySfk"
      },
      "outputs": [],
      "source": [
        "criterion = nn.MSELoss()\n",
        "optimizer = torch.optim.Adam(model.parameters(), lr=lr)"
      ]
    },
    {
      "cell_type": "code",
      "execution_count": 24,
      "metadata": {
        "id": "wcDKAfMbySfk"
      },
      "outputs": [],
      "source": [
        "def train_model(model, train_loader, val_loader, criterion, optimizer, num_epochs, grad_clip_param, apply_gradient_clipping=False):\n",
        "    model.train()\n",
        "    losses_train = []\n",
        "    losses_val = []\n",
        "    best_val_loss = np.inf\n",
        "    best_epoch = 0\n",
        "    eps = 1e-6\n",
        "\n",
        "    for epoch in range(num_epochs):\n",
        "        train_losses = []\n",
        "        for i, (input, target) in enumerate(train_loader):\n",
        "\n",
        "\n",
        "            input, target  = input.to(device), target.to(device)\n",
        "\n",
        "            optimizer.zero_grad()\n",
        "\n",
        "            h = model.init_hidden(input.size(0)).to(device)\n",
        "\n",
        "            output, hidden = model(input.float(), h)\n",
        "\n",
        "            loss = torch.sqrt(criterion(output, target.float()) + eps)\n",
        "            # gradient clipping\n",
        "            loss.backward()\n",
        "            if apply_gradient_clipping:\n",
        "                torch.nn.utils.clip_grad_norm_(model.parameters(), grad_clip_param)\n",
        "            optimizer.step()\n",
        "\n",
        "            train_losses.append(loss.item())\n",
        "\n",
        "        # validate\n",
        "        \"\"\"\n",
        "        model.eval()\n",
        "        val_losses = []\n",
        "        with torch.no_grad():\n",
        "            for i, (input, target) in enumerate(val_loader):\n",
        "                input, target  = input.to(device), target.to(device)\n",
        "                h = model.init_hidden(input.size(0)).to(device)\n",
        "                output, hidden = model(input.float(), h)\n",
        "\n",
        "                val_loss = criterion(output, target.float())\n",
        "                val_losses.append(val_loss.item())\n",
        "        \"\"\"\n",
        "        #print epoch results\n",
        "        print(f'Epoch {epoch}, train loss: {np.mean(train_losses)}')\n",
        "\n",
        "\n",
        "        losses_train.append(np.mean(train_losses))\n",
        "        #losses_val.append(np.mean(val_losses))\n",
        "\n",
        "    return model, losses_train"
      ]
    },
    {
      "cell_type": "markdown",
      "metadata": {
        "id": "ip9iPXo6ySfk"
      },
      "source": [
        "Retrain Model on entire dataset using the before found hyperparameters"
      ]
    },
    {
      "cell_type": "code",
      "execution_count": 25,
      "metadata": {
        "colab": {
          "base_uri": "https://localhost:8080/"
        },
        "id": "U-Y9q2tLySfm",
        "outputId": "5f3de682-004e-458e-82a8-8d269b551cad"
      },
      "outputs": [
        {
          "output_type": "stream",
          "name": "stderr",
          "text": [
            "/usr/local/lib/python3.10/dist-packages/torch/nn/modules/rnn.py:83: UserWarning: dropout option adds dropout after all but last recurrent layer, so non-zero dropout expects num_layers greater than 1, but got dropout=0.5 and num_layers=1\n",
            "  warnings.warn(\"dropout option adds dropout after all but last \"\n"
          ]
        }
      ],
      "source": [
        "#Best parameters: {'batch_size': 16, 'iterator_train__shuffle': False, 'max_epochs': 80, 'module__drop_prob': 0.5, 'module__hidden_dim': 16, 'module__n_layers': 1, 'optimizer__lr': 0.001, 'optimizer__weight_decay': 0.0001}\n",
        "\n",
        "HIDDEN_SIZE = 16\n",
        "NUM_LAYERS = 1\n",
        "lr = 0.001\n",
        "weight_decay = 0.001\n",
        "N_EPOCHS = 100\n",
        "DROP_PROB = 0.5\n",
        "device = torch.device(\"cuda\" if torch.cuda.is_available() else \"cpu\")\n",
        "grad_clip_param = 2\n",
        "\n",
        "\n",
        "\n",
        "model = GRUNet(input_dim=INPUT_SIZE, hidden_dim=HIDDEN_SIZE, output_dim=OUTPUT_SIZE, n_layers=NUM_LAYERS, drop_prob=DROP_PROB).to(device)\n",
        "optimizer = torch.optim.Adam(model.parameters(), lr=lr, weight_decay=0.0001)"
      ]
    },
    {
      "cell_type": "code",
      "execution_count": 26,
      "metadata": {
        "id": "dJJxmdMpySfm"
      },
      "outputs": [],
      "source": [
        "# retrain on entire dataset\n",
        "wind_total = np.concatenate((wind_data, wind_data_val), axis=0)\n",
        "wind_total_X, wind_total_y = move_sliding_window(wind_total, WINDOW_SIZE, range(11), 0, 1)\n",
        "wind_total_dataset = SolarDataset(wind_total_X, wind_total_y)\n",
        "dataloader_wind_total = DataLoader(wind_total_dataset, batch_size=32, shuffle=False, drop_last=True)"
      ]
    },
    {
      "cell_type": "code",
      "execution_count": 27,
      "metadata": {
        "colab": {
          "base_uri": "https://localhost:8080/"
        },
        "id": "k5HBWxOXySfm",
        "outputId": "13761feb-5ec7-4ad8-f382-7999142c580f"
      },
      "outputs": [
        {
          "output_type": "stream",
          "name": "stdout",
          "text": [
            "Epoch 0, train loss: 0.34759485190700234\n",
            "Epoch 1, train loss: 0.3216056115789187\n",
            "Epoch 2, train loss: 0.21374822329688958\n",
            "Epoch 3, train loss: 0.15862277475039357\n",
            "Epoch 4, train loss: 0.14415991910246637\n",
            "Epoch 5, train loss: 0.11831901741784688\n",
            "Epoch 6, train loss: 0.10284940846464012\n",
            "Epoch 7, train loss: 0.09333991982727953\n",
            "Epoch 8, train loss: 0.08561037394788738\n",
            "Epoch 9, train loss: 0.0821520636078247\n",
            "Epoch 10, train loss: 0.07250219583057602\n",
            "Epoch 11, train loss: 0.06816042276682394\n",
            "Epoch 12, train loss: 0.05952472896479642\n",
            "Epoch 13, train loss: 0.05842425618955954\n",
            "Epoch 14, train loss: 0.05364305584948968\n",
            "Epoch 15, train loss: 0.05734496557774265\n",
            "Epoch 16, train loss: 0.05862547502820079\n",
            "Epoch 17, train loss: 0.04260207206718669\n",
            "Epoch 18, train loss: 0.04885548316951882\n",
            "Epoch 19, train loss: 0.049214342880730906\n",
            "Epoch 20, train loss: 0.04158103760517907\n",
            "Epoch 21, train loss: 0.039571583130364005\n",
            "Epoch 22, train loss: 0.03442169852718148\n",
            "Epoch 23, train loss: 0.04268627076173807\n",
            "Epoch 24, train loss: 0.03561258088484243\n",
            "Epoch 25, train loss: 0.040843371634545135\n",
            "Epoch 26, train loss: 0.03556653720850803\n",
            "Epoch 27, train loss: 0.03586240287702281\n",
            "Epoch 28, train loss: 0.04214803123025362\n",
            "Epoch 29, train loss: 0.0388540126804158\n",
            "Epoch 30, train loss: 0.03417373501670736\n",
            "Epoch 31, train loss: 0.037874537197380674\n",
            "Epoch 32, train loss: 0.03223761601399644\n",
            "Epoch 33, train loss: 0.04126208699813133\n",
            "Epoch 34, train loss: 0.03289544445674653\n",
            "Epoch 35, train loss: 0.03255833961760419\n",
            "Epoch 36, train loss: 0.03410762474031599\n",
            "Epoch 37, train loss: 0.035566189422484275\n",
            "Epoch 38, train loss: 0.031558149797392694\n",
            "Epoch 39, train loss: 0.03654060021000852\n",
            "Epoch 40, train loss: 0.030682779799513837\n",
            "Epoch 41, train loss: 0.030854935967958963\n",
            "Epoch 42, train loss: 0.027615759866005864\n",
            "Epoch 43, train loss: 0.03561441427954313\n",
            "Epoch 44, train loss: 0.031034992526236573\n",
            "Epoch 45, train loss: 0.03853444196000223\n",
            "Epoch 46, train loss: 0.03165034286595028\n",
            "Epoch 47, train loss: 0.03091486988943093\n",
            "Epoch 48, train loss: 0.02745685499188707\n",
            "Epoch 49, train loss: 0.027147056752119335\n",
            "Epoch 50, train loss: 0.03329587710202285\n",
            "Epoch 51, train loss: 0.032320145103256884\n",
            "Epoch 52, train loss: 0.035529343029041746\n",
            "Epoch 53, train loss: 0.027207795615352227\n",
            "Epoch 54, train loss: 0.03442619650326351\n",
            "Epoch 55, train loss: 0.029368424291827972\n",
            "Epoch 56, train loss: 0.027264856173000077\n",
            "Epoch 57, train loss: 0.03328114864104467\n",
            "Epoch 58, train loss: 0.03168647646440032\n",
            "Epoch 59, train loss: 0.028970258674004663\n",
            "Epoch 60, train loss: 0.030559601437189273\n",
            "Epoch 61, train loss: 0.03172791394973389\n",
            "Epoch 62, train loss: 0.03276529709267431\n",
            "Epoch 63, train loss: 0.028220545070021256\n",
            "Epoch 64, train loss: 0.027466345274135762\n",
            "Epoch 65, train loss: 0.026860948640685278\n",
            "Epoch 66, train loss: 0.026957227187412683\n",
            "Epoch 67, train loss: 0.030089377001212652\n",
            "Epoch 68, train loss: 0.03560570396832332\n",
            "Epoch 69, train loss: 0.027032828516293947\n",
            "Epoch 70, train loss: 0.02866240118116358\n",
            "Epoch 71, train loss: 0.023820274265315133\n",
            "Epoch 72, train loss: 0.028028275637834103\n",
            "Epoch 73, train loss: 0.026463726436748793\n",
            "Epoch 74, train loss: 0.036015608239619475\n",
            "Epoch 75, train loss: 0.029121973991096835\n",
            "Epoch 76, train loss: 0.031786261821487846\n",
            "Epoch 77, train loss: 0.02921994725139029\n",
            "Epoch 78, train loss: 0.02617351523085512\n",
            "Epoch 79, train loss: 0.032111917888398546\n",
            "Epoch 80, train loss: 0.03235514700581772\n",
            "Epoch 81, train loss: 0.026641705043355272\n",
            "Epoch 82, train loss: 0.028826037249113826\n",
            "Epoch 83, train loss: 0.029390013188829285\n",
            "Epoch 84, train loss: 0.03145185523398729\n",
            "Epoch 85, train loss: 0.025639587476447987\n",
            "Epoch 86, train loss: 0.028849800053788816\n",
            "Epoch 87, train loss: 0.028003875066919863\n",
            "Epoch 88, train loss: 0.029485128236873288\n",
            "Epoch 89, train loss: 0.02344440568145478\n",
            "Epoch 90, train loss: 0.027366859692032022\n",
            "Epoch 91, train loss: 0.029956986639029307\n",
            "Epoch 92, train loss: 0.03041698881249135\n",
            "Epoch 93, train loss: 0.025677801148419187\n",
            "Epoch 94, train loss: 0.027261441250770704\n",
            "Epoch 95, train loss: 0.03236250851380477\n",
            "Epoch 96, train loss: 0.029273946281470332\n",
            "Epoch 97, train loss: 0.025288166132008023\n",
            "Epoch 98, train loss: 0.02633981930855412\n",
            "Epoch 99, train loss: 0.022634691405637546\n"
          ]
        }
      ],
      "source": [
        "model, losses_train = train_model(model, dataloader_wind_total, None, criterion, optimizer, num_epochs=N_EPOCHS, apply_gradient_clipping=True, grad_clip_param=grad_clip_param)"
      ]
    },
    {
      "cell_type": "code",
      "execution_count": 28,
      "metadata": {
        "id": "NNUspFFPySfm"
      },
      "outputs": [],
      "source": [
        "torch.save(model.state_dict(), 'total_wind_1h_model.pth')"
      ]
    },
    {
      "cell_type": "code",
      "execution_count": 39,
      "metadata": {
        "colab": {
          "base_uri": "https://localhost:8080/",
          "height": 542
        },
        "id": "p22gtVupySfn",
        "outputId": "aeac74be-4d8f-471d-fb77-2fe9f890c5fd"
      },
      "outputs": [
        {
          "output_type": "display_data",
          "data": {
            "text/plain": [
              "<Figure size 1200x600 with 1 Axes>"
            ],
            "image/png": "[encoded data removed]"
          },
          "metadata": {}
        }
      ],
      "source": [
        "# plot losses\n",
        "plt.figure(figsize=(12, 6))\n",
        "plt.plot(losses_train, \"-o\", color=\"b\",label='RMSE', markersize=4)\n",
        "#plt.plot(losses_val, label='val')\n",
        "plt.legend()\n",
        "plt.xlabel('Epoch')\n",
        "plt.ylabel('Loss')\n",
        "plt.grid(True)\n",
        "plt.savefig('loss_wind_1h_total.png')\n",
        "plt.show()\n",
        "\n"
      ]
    },
    {
      "cell_type": "code",
      "source": [
        "print(\"average loss: \", np.mean(losses_train))"
      ],
      "metadata": {
        "colab": {
          "base_uri": "https://localhost:8080/"
        },
        "id": "jX-FOUOGYI-l",
        "outputId": "72c9b09d-cbfa-4f66-8349-6d4de541d375"
      },
      "execution_count": 31,
      "outputs": [
        {
          "output_type": "stream",
          "name": "stdout",
          "text": [
            "average loss:  0.04747034436234854\n"
          ]
        }
      ]
    },
    {
      "cell_type": "code",
      "execution_count": 32,
      "metadata": {
        "id": "Qm0fGPtLySfn"
      },
      "outputs": [],
      "source": [
        "total_solar = np.concatenate((solar_data, solar_data_val), axis=0)\n",
        "total_solar_X, total_solar_y = move_sliding_window(total_solar, WINDOW_SIZE, range(11), 0, 1)\n",
        "total_solar_dataset = SolarDataset(total_solar_X, total_solar_y)\n",
        "dataloader_solar_total = DataLoader(total_solar_dataset, batch_size=32, shuffle=False, drop_last=True)\n"
      ]
    },
    {
      "cell_type": "code",
      "execution_count": 33,
      "metadata": {
        "id": "xz3iR_mdySfn",
        "colab": {
          "base_uri": "https://localhost:8080/"
        },
        "outputId": "b88ef929-3faa-44ac-9470-34bd7379e6b0"
      },
      "outputs": [
        {
          "output_type": "stream",
          "name": "stderr",
          "text": [
            "/usr/local/lib/python3.10/dist-packages/torch/nn/modules/rnn.py:83: UserWarning: dropout option adds dropout after all but last recurrent layer, so non-zero dropout expects num_layers greater than 1, but got dropout=0.5 and num_layers=1\n",
            "  warnings.warn(\"dropout option adds dropout after all but last \"\n"
          ]
        }
      ],
      "source": [
        "#Best parameters: {'batch_size': 64, 'iterator_train__shuffle': False, 'max_epochs': 80, 'module__drop_prob': 0.5, 'module__hidden_dim': 64, 'module__n_layers': 1, 'optimizer__lr': 0.001, 'optimizer__weight_decay': 0.001}\n",
        "BAT_SIZE = 64\n",
        "HIDDEN_SIZE = 64\n",
        "NUM_LAYERS = 1\n",
        "lr = 0.001\n",
        "weight_decay = 0.001\n",
        "N_EPOCHS = 100\n",
        "DROP_PROB = 0.5\n",
        "device = torch.device(\"cuda\" if torch.cuda.is_available() else \"cpu\")\n",
        "grad_clip_param = 2\n",
        "\n",
        "solar_1h_model = GRUNet(input_dim=INPUT_SIZE, hidden_dim=HIDDEN_SIZE, output_dim=OUTPUT_SIZE, n_layers=NUM_LAYERS, drop_prob=DROP_PROB).to(device)\n",
        "optimizer = torch.optim.Adam(solar_1h_model.parameters(), lr=lr, weight_decay=0.0001)"
      ]
    },
    {
      "cell_type": "code",
      "execution_count": 34,
      "metadata": {
        "colab": {
          "base_uri": "https://localhost:8080/"
        },
        "id": "9MoehEDAySfn",
        "outputId": "f2740aec-983f-4067-adaa-b5104ff3d826"
      },
      "outputs": [
        {
          "output_type": "stream",
          "name": "stdout",
          "text": [
            "Epoch 0, train loss: 0.24821248836361606\n",
            "Epoch 1, train loss: 0.22518000595416787\n",
            "Epoch 2, train loss: 0.2212129259180282\n",
            "Epoch 3, train loss: 0.2136185914572968\n",
            "Epoch 4, train loss: 0.17746339653063925\n",
            "Epoch 5, train loss: 0.1503710694130097\n",
            "Epoch 6, train loss: 0.13289360837936037\n",
            "Epoch 7, train loss: 0.1182144397697281\n",
            "Epoch 8, train loss: 0.11313740681657221\n",
            "Epoch 9, train loss: 0.09841306884540528\n",
            "Epoch 10, train loss: 0.08935236069515583\n",
            "Epoch 11, train loss: 0.09171179154531602\n",
            "Epoch 12, train loss: 0.08688187958779274\n",
            "Epoch 13, train loss: 0.08660290378625715\n",
            "Epoch 14, train loss: 0.08789638084462695\n",
            "Epoch 15, train loss: 0.08366081368600117\n",
            "Epoch 16, train loss: 0.07770941124993051\n",
            "Epoch 17, train loss: 0.07544599559575538\n",
            "Epoch 18, train loss: 0.07691544306835434\n",
            "Epoch 19, train loss: 0.07854543676674729\n",
            "Epoch 20, train loss: 0.07683594227994221\n",
            "Epoch 21, train loss: 0.07567380179268797\n",
            "Epoch 22, train loss: 0.08399948789244666\n",
            "Epoch 23, train loss: 0.07457390363610618\n",
            "Epoch 24, train loss: 0.0704702939134858\n",
            "Epoch 25, train loss: 0.07019778702920813\n",
            "Epoch 26, train loss: 0.07242521005722351\n",
            "Epoch 27, train loss: 0.07159658288753316\n",
            "Epoch 28, train loss: 0.07544781346482096\n",
            "Epoch 29, train loss: 0.07914021609625557\n",
            "Epoch 30, train loss: 0.08142249738677301\n",
            "Epoch 31, train loss: 0.07834216473050117\n",
            "Epoch 32, train loss: 0.06937328862972403\n",
            "Epoch 33, train loss: 0.08042615912423609\n",
            "Epoch 34, train loss: 0.07253185785222395\n",
            "Epoch 35, train loss: 0.06823918962597067\n",
            "Epoch 36, train loss: 0.07332809492786858\n",
            "Epoch 37, train loss: 0.06977162278290207\n",
            "Epoch 38, train loss: 0.07713757754370443\n",
            "Epoch 39, train loss: 0.07559250802681958\n",
            "Epoch 40, train loss: 0.06683770598147187\n",
            "Epoch 41, train loss: 0.07432229142300285\n",
            "Epoch 42, train loss: 0.07842906512973442\n",
            "Epoch 43, train loss: 0.07191576553002707\n",
            "Epoch 44, train loss: 0.08516785192522294\n",
            "Epoch 45, train loss: 0.07480256411561177\n",
            "Epoch 46, train loss: 0.08187409455748446\n",
            "Epoch 47, train loss: 0.07365730805288496\n",
            "Epoch 48, train loss: 0.07391872618973581\n",
            "Epoch 49, train loss: 0.08439559655447788\n",
            "Epoch 50, train loss: 0.07546583963297171\n",
            "Epoch 51, train loss: 0.07236023455399943\n",
            "Epoch 52, train loss: 0.0718309962475416\n",
            "Epoch 53, train loss: 0.07554115178732794\n",
            "Epoch 54, train loss: 0.06673325720525615\n",
            "Epoch 55, train loss: 0.07460152779804513\n",
            "Epoch 56, train loss: 0.06827039262177774\n",
            "Epoch 57, train loss: 0.07434381748097024\n",
            "Epoch 58, train loss: 0.06915794492525647\n",
            "Epoch 59, train loss: 0.0772387884499394\n",
            "Epoch 60, train loss: 0.07550519017613834\n",
            "Epoch 61, train loss: 0.07061014025972365\n",
            "Epoch 62, train loss: 0.07720000526655679\n",
            "Epoch 63, train loss: 0.07584045408123448\n",
            "Epoch 64, train loss: 0.08159289491815486\n",
            "Epoch 65, train loss: 0.06913114453571759\n",
            "Epoch 66, train loss: 0.0748180354333933\n",
            "Epoch 67, train loss: 0.07021125467850324\n",
            "Epoch 68, train loss: 0.06800512762129961\n",
            "Epoch 69, train loss: 0.0696427670662517\n",
            "Epoch 70, train loss: 0.06904812655371957\n",
            "Epoch 71, train loss: 0.06486119600931743\n",
            "Epoch 72, train loss: 0.06716632089281543\n",
            "Epoch 73, train loss: 0.06334162784806123\n",
            "Epoch 74, train loss: 0.06405555458805194\n",
            "Epoch 75, train loss: 0.06171321063773223\n",
            "Epoch 76, train loss: 0.06298599274200586\n",
            "Epoch 77, train loss: 0.06228839364538058\n",
            "Epoch 78, train loss: 0.059611109715526814\n",
            "Epoch 79, train loss: 0.06030266666410539\n",
            "Epoch 80, train loss: 0.05990700060887382\n",
            "Epoch 81, train loss: 0.06234085713552898\n",
            "Epoch 82, train loss: 0.0666315361407067\n",
            "Epoch 83, train loss: 0.06531751115412772\n",
            "Epoch 84, train loss: 0.06160155377134082\n",
            "Epoch 85, train loss: 0.06401207706472416\n",
            "Epoch 86, train loss: 0.06763173344950038\n",
            "Epoch 87, train loss: 0.06292651880058334\n",
            "Epoch 88, train loss: 0.06779228424058997\n",
            "Epoch 89, train loss: 0.057737244798458126\n",
            "Epoch 90, train loss: 0.06204081719557456\n",
            "Epoch 91, train loss: 0.06256055928331127\n",
            "Epoch 92, train loss: 0.058989740547414383\n",
            "Epoch 93, train loss: 0.06226728317054413\n",
            "Epoch 94, train loss: 0.05713360739960341\n",
            "Epoch 95, train loss: 0.058157547884683115\n",
            "Epoch 96, train loss: 0.058413202053074355\n",
            "Epoch 97, train loss: 0.06385059054627851\n",
            "Epoch 98, train loss: 0.07285790173983457\n",
            "Epoch 99, train loss: 0.06351484211125433\n"
          ]
        }
      ],
      "source": [
        "solar_1h_model, losses_train_solar_1h = train_model(solar_1h_model, dataloader_solar_total, None, criterion, optimizer, num_epochs=N_EPOCHS, apply_gradient_clipping=True, grad_clip_param=grad_clip_param)"
      ]
    },
    {
      "cell_type": "code",
      "execution_count": 35,
      "metadata": {
        "id": "gE9s8bPtySfo"
      },
      "outputs": [],
      "source": [
        "torch.save(solar_1h_model.state_dict(), 'total_solar_1h_model.pth')"
      ]
    },
    {
      "cell_type": "code",
      "execution_count": 38,
      "metadata": {
        "colab": {
          "base_uri": "https://localhost:8080/",
          "height": 542
        },
        "id": "LP8tUVIMySfo",
        "outputId": "aafaded0-0fbe-4a06-c3f2-9b2dd8a83a2c"
      },
      "outputs": [
        {
          "output_type": "display_data",
          "data": {
            "text/plain": [
              "<Figure size 1200x600 with 1 Axes>"
            ],
            "image/png": "[encoded data removed]"
          },
          "metadata": {}
        }
      ],
      "source": [
        "plt.figure(figsize=(12, 6))\n",
        "plt.plot(losses_train_solar_1h, \"-o\", color=\"b\",label='RMSE', markersize=4)\n",
        "#plt.plot(losses_val, label='val')\n",
        "plt.legend()\n",
        "plt.xlabel('Epoch')\n",
        "plt.ylabel('Loss')\n",
        "plt.grid(True)\n",
        "plt.savefig('loss_solar_1h_total.png')\n",
        "plt.show()\n"
      ]
    },
    {
      "cell_type": "code",
      "source": [
        "print('average loss: ', np.mean(losses_train_solar_1h))"
      ],
      "metadata": {
        "colab": {
          "base_uri": "https://localhost:8080/"
        },
        "id": "_cBFRcqDYbr1",
        "outputId": "6c3e6c72-de1d-4e1c-a565-f3589f7e1a3d"
      },
      "execution_count": 40,
      "outputs": [
        {
          "output_type": "stream",
          "name": "stdout",
          "text": [
            "average loss:  0.08144445960546631\n"
          ]
        }
      ]
    },
    {
      "cell_type": "code",
      "source": [
        "WINDOW_SIZE = 72\n",
        "FORECAST_HORIZON = 24"
      ],
      "metadata": {
        "id": "V9F63xy42RW9"
      },
      "execution_count": 41,
      "outputs": []
    },
    {
      "cell_type": "code",
      "execution_count": 42,
      "metadata": {
        "id": "-G2lSo_qySfo"
      },
      "outputs": [],
      "source": [
        "total_solar_24h_X, total_solar_24h_y = move_sliding_window(total_solar, WINDOW_SIZE, range(11), 0, forecast_horizon=FORECAST_HORIZON)\n",
        "total_solar_24h_dataset = SolarDataset(total_solar_24h_X, total_solar_24h_y)\n",
        "dataloader_solar_total_24h = DataLoader(total_solar_24h_dataset, batch_size=32, shuffle=False, drop_last=True)\n"
      ]
    },
    {
      "cell_type": "code",
      "execution_count": 56,
      "metadata": {
        "id": "xAP6yu7mySfo"
      },
      "outputs": [],
      "source": [
        "#est parameters: {'batch_size': 64, 'iterator_train__shuffle': False, 'max_epochs': 80, 'module__drop_prob': 0.5, 'module__hidden_dim': 16, 'module__n_layers': 1, 'optimizer__lr': 0.001, 'optimizer__weight_decay': 0.001}\n",
        "BATCH_SIZE = 64\n",
        "EPOCHS = 100\n",
        "HIDDEN_SIZE = 64\n",
        "NUM_LAYERS = 2\n",
        "lr = 0.001\n",
        "weight_decay = 0.001\n",
        "DROP_PROB = 0.5\n",
        "grad_clip_param = 2\n",
        "\n",
        "model_solar_24h = GRUNet(input_dim=INPUT_SIZE, hidden_dim=HIDDEN_SIZE, output_dim=OUTPUT_SIZE, n_layers=NUM_LAYERS, drop_prob=DROP_PROB).to(device)\n",
        "optimizer = torch.optim.Adam(model_solar_24h.parameters(), lr=lr, weight_decay=weight_decay)"
      ]
    },
    {
      "cell_type": "code",
      "execution_count": 57,
      "metadata": {
        "colab": {
          "base_uri": "https://localhost:8080/"
        },
        "id": "xeYUzMlmySfp",
        "outputId": "9ee23361-7bca-4642-ba3c-ca52664bf753"
      },
      "outputs": [
        {
          "output_type": "stream",
          "name": "stdout",
          "text": [
            "Epoch 0, train loss: 0.24011706913137976\n",
            "Epoch 1, train loss: 0.21333612015150188\n",
            "Epoch 2, train loss: 0.2106169412578928\n",
            "Epoch 3, train loss: 0.1943035976476831\n",
            "Epoch 4, train loss: 0.190762790181516\n",
            "Epoch 5, train loss: 0.18726234840085873\n",
            "Epoch 6, train loss: 0.18756285253843982\n",
            "Epoch 7, train loss: 0.18162082017414152\n",
            "Epoch 8, train loss: 0.18448352039096846\n",
            "Epoch 9, train loss: 0.19134440900068797\n",
            "Epoch 10, train loss: 0.18859932079265332\n",
            "Epoch 11, train loss: 0.1851982162271482\n",
            "Epoch 12, train loss: 0.1832260866018333\n",
            "Epoch 13, train loss: 0.18910597639797444\n",
            "Epoch 14, train loss: 0.18807264414908176\n",
            "Epoch 15, train loss: 0.18168677965699898\n",
            "Epoch 16, train loss: 0.18636164457624793\n",
            "Epoch 17, train loss: 0.18538428909885576\n",
            "Epoch 18, train loss: 0.1873690292161863\n",
            "Epoch 19, train loss: 0.18300575407970154\n",
            "Epoch 20, train loss: 0.18552852782019402\n",
            "Epoch 21, train loss: 0.1838360763131044\n",
            "Epoch 22, train loss: 0.18129278664842194\n",
            "Epoch 23, train loss: 0.18566950828391918\n",
            "Epoch 24, train loss: 0.18701700954464912\n",
            "Epoch 25, train loss: 0.19319202424787776\n",
            "Epoch 26, train loss: 0.1870499802400814\n",
            "Epoch 27, train loss: 0.1861181558906959\n",
            "Epoch 28, train loss: 0.18557781271263502\n",
            "Epoch 29, train loss: 0.19089523414707082\n",
            "Epoch 30, train loss: 0.18863181725271747\n",
            "Epoch 31, train loss: 0.19346222638974697\n",
            "Epoch 32, train loss: 0.18598764914432506\n",
            "Epoch 33, train loss: 0.17993217308451767\n",
            "Epoch 34, train loss: 0.19037026452794398\n",
            "Epoch 35, train loss: 0.18915239663087333\n",
            "Epoch 36, train loss: 0.1850796415856033\n",
            "Epoch 37, train loss: 0.18035145073228484\n",
            "Epoch 38, train loss: 0.1879272141899818\n",
            "Epoch 39, train loss: 0.18377916054329374\n",
            "Epoch 40, train loss: 0.18107943551589864\n",
            "Epoch 41, train loss: 0.18620456744699543\n",
            "Epoch 42, train loss: 0.19191837512293286\n",
            "Epoch 43, train loss: 0.19760236035809559\n",
            "Epoch 44, train loss: 0.19395920986784976\n",
            "Epoch 45, train loss: 0.19396438734589988\n",
            "Epoch 46, train loss: 0.19499064422006718\n",
            "Epoch 47, train loss: 0.1928571026603963\n",
            "Epoch 48, train loss: 0.19205210283080226\n",
            "Epoch 49, train loss: 0.18394248003779168\n",
            "Epoch 50, train loss: 0.19058544750715423\n",
            "Epoch 51, train loss: 0.19075675704886044\n",
            "Epoch 52, train loss: 0.18676425378555853\n",
            "Epoch 53, train loss: 0.1866534726264385\n",
            "Epoch 54, train loss: 0.19085132022716914\n",
            "Epoch 55, train loss: 0.18877819933279238\n",
            "Epoch 56, train loss: 0.1844382738246513\n",
            "Epoch 57, train loss: 0.18223976092219754\n",
            "Epoch 58, train loss: 0.19253818892506525\n",
            "Epoch 59, train loss: 0.18265334840850297\n",
            "Epoch 60, train loss: 0.18372620598291375\n",
            "Epoch 61, train loss: 0.1877020873193048\n",
            "Epoch 62, train loss: 0.17946688871789765\n",
            "Epoch 63, train loss: 0.18208863623599467\n",
            "Epoch 64, train loss: 0.17940321725807964\n",
            "Epoch 65, train loss: 0.19381061759669338\n",
            "Epoch 66, train loss: 0.1800455399476201\n",
            "Epoch 67, train loss: 0.19566054296735516\n",
            "Epoch 68, train loss: 0.1919491132300561\n",
            "Epoch 69, train loss: 0.19090637107071567\n",
            "Epoch 70, train loss: 0.18506305977038048\n",
            "Epoch 71, train loss: 0.18293051079816217\n",
            "Epoch 72, train loss: 0.18896259882479396\n",
            "Epoch 73, train loss: 0.18671568744771538\n",
            "Epoch 74, train loss: 0.1883716138627867\n",
            "Epoch 75, train loss: 0.19749630702675408\n",
            "Epoch 76, train loss: 0.2000614792968218\n",
            "Epoch 77, train loss: 0.18585411290455067\n",
            "Epoch 78, train loss: 0.17932016684040336\n",
            "Epoch 79, train loss: 0.18386358308340894\n",
            "Epoch 80, train loss: 0.1820205488288832\n",
            "Epoch 81, train loss: 0.18548041488520428\n",
            "Epoch 82, train loss: 0.1958224954690798\n",
            "Epoch 83, train loss: 0.1928655180388718\n",
            "Epoch 84, train loss: 0.19260416329316385\n",
            "Epoch 85, train loss: 0.18870389883853358\n",
            "Epoch 86, train loss: 0.18301447698907866\n",
            "Epoch 87, train loss: 0.18032963573932648\n",
            "Epoch 88, train loss: 0.1853357455823957\n",
            "Epoch 89, train loss: 0.18689819320499607\n",
            "Epoch 90, train loss: 0.1854771009779402\n",
            "Epoch 91, train loss: 0.18564182215043876\n",
            "Epoch 92, train loss: 0.1851596188969155\n",
            "Epoch 93, train loss: 0.18254126063792514\n",
            "Epoch 94, train loss: 0.18522859149827406\n",
            "Epoch 95, train loss: 0.17831026511755801\n",
            "Epoch 96, train loss: 0.18467606040188572\n",
            "Epoch 97, train loss: 0.18293697474995158\n",
            "Epoch 98, train loss: 0.17935906754072042\n",
            "Epoch 99, train loss: 0.1745593702848159\n"
          ]
        }
      ],
      "source": [
        "model_solar_24h, losses_train_solar_24h = train_model(model_solar_24h, dataloader_solar_total_24h, None, criterion, optimizer, num_epochs=EPOCHS, apply_gradient_clipping=True, grad_clip_param=grad_clip_param)"
      ]
    },
    {
      "cell_type": "code",
      "execution_count": 58,
      "metadata": {
        "id": "oOXxNxRAySfp"
      },
      "outputs": [],
      "source": [
        "torch.save(model_solar_24h.state_dict(), 'total_solar_24h_model.pth')"
      ]
    },
    {
      "cell_type": "code",
      "execution_count": 59,
      "metadata": {
        "colab": {
          "base_uri": "https://localhost:8080/",
          "height": 542
        },
        "id": "RxZ2etPMySfp",
        "outputId": "70e0ca4d-dda0-41f9-9dd3-410fd75d302b"
      },
      "outputs": [
        {
          "output_type": "display_data",
          "data": {
            "text/plain": [
              "<Figure size 1200x600 with 1 Axes>"
            ],
            "image/png": "[encoded data removed]"
          },
          "metadata": {}
        }
      ],
      "source": [
        "plt.figure(figsize=(12, 6))\n",
        "plt.plot(losses_train_solar_24h, \"-o\", color=\"b\",label='RMSE', markersize=4)\n",
        "plt.legend()\n",
        "plt.xlabel('Epoch')\n",
        "plt.ylabel('Loss')\n",
        "plt.grid(True)\n",
        "plt.savefig('loss_solar_24h_total.png')\n",
        "plt.show()"
      ]
    },
    {
      "cell_type": "code",
      "source": [
        "print('average loss: ', np.mean(losses_train_solar_24h))"
      ],
      "metadata": {
        "colab": {
          "base_uri": "https://localhost:8080/"
        },
        "id": "yhEGPlXXY7yn",
        "outputId": "11043820-3fbb-4c84-a82e-ed198abfda5d"
      },
      "execution_count": 60,
      "outputs": [
        {
          "output_type": "stream",
          "name": "stdout",
          "text": [
            "average loss:  0.1879546457092517\n"
          ]
        }
      ]
    },
    {
      "cell_type": "code",
      "execution_count": 48,
      "metadata": {
        "id": "iJTfcPt2ySfp"
      },
      "outputs": [],
      "source": [
        "total_wind_24h_X, total_wind_24h_y = move_sliding_window(wind_total, WINDOW_SIZE, range(11), 0, forecast_horizon=FORECAST_HORIZON)\n",
        "total_wind_24h_dataset = SolarDataset(total_wind_24h_X, total_wind_24h_y)\n",
        "dataloader_wind_total_24h = DataLoader(total_wind_24h_dataset, batch_size=32, shuffle=False, drop_last=True)\n"
      ]
    },
    {
      "cell_type": "code",
      "execution_count": 49,
      "metadata": {
        "id": "8XJB8LGgySfq"
      },
      "outputs": [],
      "source": [
        "#Best parameters: {'batch_size': 64, 'iterator_train__shuffle': False, 'max_epochs': 80, 'module__drop_prob': 0.5, 'module__hidden_dim': 16, 'module__n_layers': 1, 'optimizer__lr': 0.001, 'optimizer__weight_decay': 0.001}\n",
        "BATCH_SIZE = 64\n",
        "EPOCHS = 100\n",
        "HIDDEN_SIZE = 16\n",
        "NUM_LAYERS = 1\n",
        "lr = 0.001\n",
        "weight_decay = 0.001\n",
        "DROP_PROB = 0.5\n",
        "grad_clip_param = 2\n",
        "\n",
        "model_wind_24h = GRUNet(input_dim=INPUT_SIZE, hidden_dim=HIDDEN_SIZE, output_dim=OUTPUT_SIZE, n_layers=NUM_LAYERS, drop_prob=DROP_PROB).to(device)\n",
        "optimizer = torch.optim.Adam(model_wind_24h.parameters(), lr=lr, weight_decay=weight_decay)"
      ]
    },
    {
      "cell_type": "code",
      "execution_count": 50,
      "metadata": {
        "colab": {
          "base_uri": "https://localhost:8080/"
        },
        "id": "IXxCjsq0ySfq",
        "outputId": "12f7ced5-5c9f-4d90-aff2-ee289c2eaf85"
      },
      "outputs": [
        {
          "output_type": "stream",
          "name": "stdout",
          "text": [
            "Epoch 0, train loss: 0.35873706992920285\n",
            "Epoch 1, train loss: 0.3407934023037789\n",
            "Epoch 2, train loss: 0.33241017890573277\n",
            "Epoch 3, train loss: 0.3266460017070302\n",
            "Epoch 4, train loss: 0.32047476684526793\n",
            "Epoch 5, train loss: 0.31628039984830786\n",
            "Epoch 6, train loss: 0.30553537808240405\n",
            "Epoch 7, train loss: 0.29835836856793135\n",
            "Epoch 8, train loss: 0.2857442263727587\n",
            "Epoch 9, train loss: 0.28239463800985154\n",
            "Epoch 10, train loss: 0.2798708741358676\n",
            "Epoch 11, train loss: 0.27772381982250965\n",
            "Epoch 12, train loss: 0.2788379043568112\n",
            "Epoch 13, train loss: 0.275041670093861\n",
            "Epoch 14, train loss: 0.27217229191209297\n",
            "Epoch 15, train loss: 0.2727489296792664\n",
            "Epoch 16, train loss: 0.27486742210320864\n",
            "Epoch 17, train loss: 0.2729248135476868\n",
            "Epoch 18, train loss: 0.2729443474803507\n",
            "Epoch 19, train loss: 0.27314759223916374\n",
            "Epoch 20, train loss: 0.27470377111473143\n",
            "Epoch 21, train loss: 0.27343361075599115\n",
            "Epoch 22, train loss: 0.2728561908939128\n",
            "Epoch 23, train loss: 0.2744709429182158\n",
            "Epoch 24, train loss: 0.27435569287765593\n",
            "Epoch 25, train loss: 0.27583240084941424\n",
            "Epoch 26, train loss: 0.27465229750962267\n",
            "Epoch 27, train loss: 0.2752405939412204\n",
            "Epoch 28, train loss: 0.2766790447781665\n",
            "Epoch 29, train loss: 0.27570335849009736\n",
            "Epoch 30, train loss: 0.27561961188548506\n",
            "Epoch 31, train loss: 0.2755743834771152\n",
            "Epoch 32, train loss: 0.27587864293019776\n",
            "Epoch 33, train loss: 0.27674205398803375\n",
            "Epoch 34, train loss: 0.2750349686491293\n",
            "Epoch 35, train loss: 0.2740087610861612\n",
            "Epoch 36, train loss: 0.2770814429604709\n",
            "Epoch 37, train loss: 0.2743222739579331\n",
            "Epoch 38, train loss: 0.27683156339840576\n",
            "Epoch 39, train loss: 0.27678164695099594\n",
            "Epoch 40, train loss: 0.2739805172724019\n",
            "Epoch 41, train loss: 0.2763587115866943\n",
            "Epoch 42, train loss: 0.2775153076555921\n",
            "Epoch 43, train loss: 0.27580335498156344\n",
            "Epoch 44, train loss: 0.2766199241277463\n",
            "Epoch 45, train loss: 0.27442836207911936\n",
            "Epoch 46, train loss: 0.2752815243607257\n",
            "Epoch 47, train loss: 0.27513900113784423\n",
            "Epoch 48, train loss: 0.27399873685760373\n",
            "Epoch 49, train loss: 0.2766542564372513\n",
            "Epoch 50, train loss: 0.2752046698251778\n",
            "Epoch 51, train loss: 0.27550538932683993\n",
            "Epoch 52, train loss: 0.2745444500757443\n",
            "Epoch 53, train loss: 0.27380964193170176\n",
            "Epoch 54, train loss: 0.2732757581522977\n",
            "Epoch 55, train loss: 0.27668644572006623\n",
            "Epoch 56, train loss: 0.274380001554468\n",
            "Epoch 57, train loss: 0.2748116895838462\n",
            "Epoch 58, train loss: 0.2744177577605469\n",
            "Epoch 59, train loss: 0.27428109120118166\n",
            "Epoch 60, train loss: 0.276645724098761\n",
            "Epoch 61, train loss: 0.27487167280954244\n",
            "Epoch 62, train loss: 0.2739161654979318\n",
            "Epoch 63, train loss: 0.2759004467086223\n",
            "Epoch 64, train loss: 0.2760475744357985\n",
            "Epoch 65, train loss: 0.27556381045734923\n",
            "Epoch 66, train loss: 0.2753131232691772\n",
            "Epoch 67, train loss: 0.27392457250701274\n",
            "Epoch 68, train loss: 0.27580307899850337\n",
            "Epoch 69, train loss: 0.2758166405562225\n",
            "Epoch 70, train loss: 0.27675543028192645\n",
            "Epoch 71, train loss: 0.2751671346507157\n",
            "Epoch 72, train loss: 0.27584249812368217\n",
            "Epoch 73, train loss: 0.27430531295455346\n",
            "Epoch 74, train loss: 0.2774704536025086\n",
            "Epoch 75, train loss: 0.2755044606879299\n",
            "Epoch 76, train loss: 0.27710776496792305\n",
            "Epoch 77, train loss: 0.27611681173972885\n",
            "Epoch 78, train loss: 0.2755328433290215\n",
            "Epoch 79, train loss: 0.2753268838820294\n",
            "Epoch 80, train loss: 0.27526534532489066\n",
            "Epoch 81, train loss: 0.2760316780216819\n",
            "Epoch 82, train loss: 0.2767631948512771\n",
            "Epoch 83, train loss: 0.27408911563883626\n",
            "Epoch 84, train loss: 0.27496150142589404\n",
            "Epoch 85, train loss: 0.2752637589379909\n",
            "Epoch 86, train loss: 0.2736501531181937\n",
            "Epoch 87, train loss: 0.27598510182238617\n",
            "Epoch 88, train loss: 0.27449441140788233\n",
            "Epoch 89, train loss: 0.2756826159963896\n",
            "Epoch 90, train loss: 0.2735645644803405\n",
            "Epoch 91, train loss: 0.27417178741304865\n",
            "Epoch 92, train loss: 0.2749153619134055\n",
            "Epoch 93, train loss: 0.27530869204091574\n",
            "Epoch 94, train loss: 0.27624383121637924\n",
            "Epoch 95, train loss: 0.2732949650918062\n",
            "Epoch 96, train loss: 0.27432798174856926\n",
            "Epoch 97, train loss: 0.27580034928862573\n",
            "Epoch 98, train loss: 0.2750806671286386\n",
            "Epoch 99, train loss: 0.2746031799368442\n"
          ]
        }
      ],
      "source": [
        "model_wind_24h, losses_train_wind_24h = train_model(model_wind_24h, dataloader_wind_total_24h, None, criterion, optimizer, num_epochs=EPOCHS, apply_gradient_clipping=True, grad_clip_param=grad_clip_param)"
      ]
    },
    {
      "cell_type": "code",
      "execution_count": 51,
      "metadata": {
        "id": "9XTE3w8mySfq"
      },
      "outputs": [],
      "source": [
        "torch.save(model_wind_24h.state_dict(), 'total_wind_24h_model.pth')"
      ]
    },
    {
      "cell_type": "code",
      "execution_count": 52,
      "metadata": {
        "colab": {
          "base_uri": "https://localhost:8080/",
          "height": 542
        },
        "id": "_P9kID4UySfq",
        "outputId": "e9495ee2-c9d4-4f26-c4da-bd62a66af929"
      },
      "outputs": [
        {
          "output_type": "display_data",
          "data": {
            "text/plain": [
              "<Figure size 1200x600 with 1 Axes>"
            ],
            "image/png": "[encoded data removed]"
          },
          "metadata": {}
        }
      ],
      "source": [
        "plt.figure(figsize=(12, 6))\n",
        "plt.plot(losses_train_wind_24h, \"-o\", color=\"b\",label='RMSE', markersize=4)\n",
        "plt.legend()\n",
        "plt.xlabel('Epoch')\n",
        "plt.ylabel('Loss')\n",
        "plt.grid(True)\n",
        "plt.savefig('loss_wind_24h_total.png')\n",
        "plt.show()"
      ]
    },
    {
      "cell_type": "code",
      "execution_count": 53,
      "metadata": {
        "id": "EvBJn-QsySfr",
        "colab": {
          "base_uri": "https://localhost:8080/"
        },
        "outputId": "631b8833-d51a-440e-c18c-3deccc967fd4"
      },
      "outputs": [
        {
          "output_type": "stream",
          "name": "stdout",
          "text": [
            "average loss:  0.2793858460134739\n"
          ]
        }
      ],
      "source": [
        "\n",
        "print('average loss: ', np.mean(losses_train_wind_24h))"
      ]
    }
  ],
  "metadata": {
    "kernelspec": {
      "display_name": "Python 3",
      "name": "python3"
    },
    "language_info": {
      "codemirror_mode": {
        "name": "ipython",
        "version": 3
      },
      "file_extension": ".py",
      "mimetype": "text/x-python",
      "name": "python",
      "nbconvert_exporter": "python",
      "pygments_lexer": "ipython3",
      "version": "3.11.8"
    },
    "colab": {
      "provenance": [],
      "gpuType": "T4"
    },
    "accelerator": "GPU"
  },
  "nbformat": 4,
  "nbformat_minor": 0
}